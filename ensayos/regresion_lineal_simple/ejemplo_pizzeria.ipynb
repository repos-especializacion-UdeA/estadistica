{
 "cells": [
  {
   "cell_type": "markdown",
   "metadata": {},
   "source": [
    "[![Open in Colab](https://colab.research.google.com/assets/colab-badge.svg)](https://colab.research.google.com/github/repos-especializacion-UdeA/estadistica/blob/main/trabajo2/trabajo2.ipynb)"
   ]
  },
  {
   "cell_type": "code",
   "execution_count": 97,
   "metadata": {},
   "outputs": [],
   "source": [
    "# Bibliotecas necesarias\n",
    "import pandas as pd\n",
    "import numpy as np\n",
    "import scipy.stats as stats\n",
    "from scipy.stats import bartlett, shapiro\n",
    "from sklearn.linear_model import LinearRegression\n",
    "import matplotlib.pyplot as plt\n",
    "from sklearn.metrics import mean_squared_error, mean_absolute_error, r2_score\n",
    "import statsmodels.api as sm\n",
    "from statsmodels.formula.api import ols\n",
    "from statsmodels.stats.diagnostic import het_breuschpagan\n",
    "from statsmodels.stats.stattools import durbin_watson\n",
    "from IPython.display import display"
   ]
  },
  {
   "cell_type": "markdown",
   "metadata": {},
   "source": [
    "# Ejemplo pizzeria"
   ]
  },
  {
   "cell_type": "markdown",
   "metadata": {},
   "source": [
    "### Enunciado del problems\n",
    "\n",
    "Armand's Pizza Parlors es una cadena de restaurantes de comida italiana. Sus mejores ubicaciones son las que se encuentran cerca de los campus de las universidades. Los gerentes creen que las ventas trimestrales de estos restaurantes (que se denotan por $y$) están directamente relacionadas con el tamaño de la población estudiantil (que se denota $x$) es decir, en los restaurantes que están cerca de campus que tienen una población estudiantil grande se generan más ventas que en los restaurantes situados cerca de campus con una población estudiantil pequeña.\n",
    "\n",
    "|Restaurante|Estudiantes (miles de $) |Ventas (miles de $)|\n",
    "|---|---|---|\n",
    "|1|2|58|\n",
    "|2|6|105|\n",
    "|3|8|88|\n",
    "|4|8|118|\n",
    "|5|12|117|\n",
    "|6|16|137|\n",
    "|7|20|157|\n",
    "|8|20|169|\n",
    "|9|22|149|\n",
    "|10|26|202|\n",
    "\n"
   ]
  },
  {
   "cell_type": "code",
   "execution_count": 13,
   "metadata": {},
   "outputs": [
    {
     "data": {
      "text/html": [
       "<div>\n",
       "<style scoped>\n",
       "    .dataframe tbody tr th:only-of-type {\n",
       "        vertical-align: middle;\n",
       "    }\n",
       "\n",
       "    .dataframe tbody tr th {\n",
       "        vertical-align: top;\n",
       "    }\n",
       "\n",
       "    .dataframe thead th {\n",
       "        text-align: right;\n",
       "    }\n",
       "</style>\n",
       "<table border=\"1\" class=\"dataframe\">\n",
       "  <thead>\n",
       "    <tr style=\"text-align: right;\">\n",
       "      <th></th>\n",
       "      <th>estudiantes_miles</th>\n",
       "      <th>ventas_trim_miles</th>\n",
       "    </tr>\n",
       "    <tr>\n",
       "      <th>restaurante</th>\n",
       "      <th></th>\n",
       "      <th></th>\n",
       "    </tr>\n",
       "  </thead>\n",
       "  <tbody>\n",
       "    <tr>\n",
       "      <th>1</th>\n",
       "      <td>2</td>\n",
       "      <td>58</td>\n",
       "    </tr>\n",
       "    <tr>\n",
       "      <th>2</th>\n",
       "      <td>6</td>\n",
       "      <td>105</td>\n",
       "    </tr>\n",
       "    <tr>\n",
       "      <th>3</th>\n",
       "      <td>8</td>\n",
       "      <td>88</td>\n",
       "    </tr>\n",
       "    <tr>\n",
       "      <th>4</th>\n",
       "      <td>8</td>\n",
       "      <td>118</td>\n",
       "    </tr>\n",
       "    <tr>\n",
       "      <th>5</th>\n",
       "      <td>12</td>\n",
       "      <td>117</td>\n",
       "    </tr>\n",
       "    <tr>\n",
       "      <th>6</th>\n",
       "      <td>16</td>\n",
       "      <td>137</td>\n",
       "    </tr>\n",
       "    <tr>\n",
       "      <th>7</th>\n",
       "      <td>20</td>\n",
       "      <td>157</td>\n",
       "    </tr>\n",
       "    <tr>\n",
       "      <th>8</th>\n",
       "      <td>20</td>\n",
       "      <td>169</td>\n",
       "    </tr>\n",
       "    <tr>\n",
       "      <th>9</th>\n",
       "      <td>22</td>\n",
       "      <td>149</td>\n",
       "    </tr>\n",
       "    <tr>\n",
       "      <th>10</th>\n",
       "      <td>26</td>\n",
       "      <td>202</td>\n",
       "    </tr>\n",
       "  </tbody>\n",
       "</table>\n",
       "</div>"
      ],
      "text/plain": [
       "             estudiantes_miles  ventas_trim_miles\n",
       "restaurante                                      \n",
       "1                            2                 58\n",
       "2                            6                105\n",
       "3                            8                 88\n",
       "4                            8                118\n",
       "5                           12                117\n",
       "6                           16                137\n",
       "7                           20                157\n",
       "8                           20                169\n",
       "9                           22                149\n",
       "10                          26                202"
      ]
     },
     "execution_count": 13,
     "metadata": {},
     "output_type": "execute_result"
    }
   ],
   "source": [
    "# Leer archivo csv\n",
    "\n",
    "# https://realpython.com/how-to-use-numpy-arange/\n",
    "\n",
    "data = {\n",
    "          'restaurante': np.arange(1,11),\n",
    "          'estudiantes_miles': [2,6,8,8,12,16,20,20,22,26],\n",
    "          'ventas_trim_miles': [58,105,88,118,117,137,157,169,149,202]\n",
    "        }\n",
    "\n",
    "# Leer el archivo CSV\n",
    "df = pd.DataFrame(data)\n",
    "df.set_index('restaurante', inplace=True)\n",
    "\n",
    "# Mostrar las primeras filas del DataFrame\n",
    "df\n"
   ]
  },
  {
   "cell_type": "markdown",
   "metadata": {},
   "source": [
    "### Diagrama de dispersion"
   ]
  },
  {
   "cell_type": "code",
   "execution_count": 14,
   "metadata": {},
   "outputs": [
    {
     "data": {
      "image/png": "[encoded data removed]",
      "text/plain": [
       "<Figure size 800x600 with 1 Axes>"
      ]
     },
     "metadata": {},
     "output_type": "display_data"
    }
   ],
   "source": [
    "# Crear el diagrama de dispersión\n",
    "plt.figure(figsize=(8, 6))\n",
    "plt.scatter(df['estudiantes_miles'], df['ventas_trim_miles'], color='blue', edgecolor='black')\n",
    "\n",
    "# Añadir títulos y etiquetas\n",
    "plt.title('Diagrama de dispersión de la población de estudiantes y ventas trimestrales\\n en Armand’s Pizza Parlors', fontsize=14)\n",
    "plt.xlabel('Poblacion de estudiantes (miles)', fontsize=12)\n",
    "plt.ylabel('Ventas trimestrales (miles de $)', fontsize=12)\n",
    "\n",
    "# Mostrar el gráfico\n",
    "plt.grid(True)\n",
    "plt.show()"
   ]
  },
  {
   "cell_type": "markdown",
   "metadata": {},
   "source": [
    "### Modelo lineal simple\n",
    "\n",
    "$$\\hat{y}_i = b_0 + b_1x_i$$\n",
    "\n",
    "Donde:\n",
    "* $\\hat{y}_i$ = valor estimado de las ventas trimestrales (en miles de dólares) del iésimo restaurante\n",
    "* $b_0$ =  intersección de la recta de regresión estimada con el eje y\n",
    "* $b_1$ = pendiente de la recta de regresión estimada\n",
    "* $x_i$ = tamaño de la población de estudiantes (en miles) del iésimo restaurante\n",
    "\n",
    "Vamos a obtener el modelo"
   ]
  },
  {
   "cell_type": "code",
   "execution_count": 44,
   "metadata": {},
   "outputs": [
    {
     "name": "stdout",
     "output_type": "stream",
     "text": [
      "Pendiente (b1): 5.0\n",
      "Intersepto (b0): 60.0\n"
     ]
    }
   ],
   "source": [
    "# 1. Preparar los datos\n",
    "x = df.estudiantes_miles.values.reshape(-1, 1)  # Variable independiente (Convertir a matriz de 2D)\n",
    "y = df.ventas_trim_miles  # Variable dependiente\n",
    "\n",
    "# 2. Crear el modelo de regresión lineal\n",
    "modelo = LinearRegression()\n",
    "\n",
    "# 3. Ajustar el modelo a los datos\n",
    "modelo.fit(x, y)\n",
    "\n",
    "# 4. Obtener el coeficiente y la intersección\n",
    "b1 = modelo.coef_[0]  # Coeficiente de la regresión\n",
    "b0 = modelo.intercept_  # Intersección (ordenada al origen)\n",
    "\n",
    "print(f'Pendiente (b1): {b1}')\n",
    "print(f'Intersepto (b0): {b0}')"
   ]
  },
  {
   "cell_type": "markdown",
   "metadata": {},
   "source": [
    "A continuación se muestra la comparación del modelo contra los datos reales"
   ]
  },
  {
   "cell_type": "code",
   "execution_count": 45,
   "metadata": {},
   "outputs": [
    {
     "data": {
      "image/png": "[encoded data removed]",
      "text/plain": [
       "<Figure size 800x600 with 1 Axes>"
      ]
     },
     "metadata": {},
     "output_type": "display_data"
    }
   ],
   "source": [
    "# 1. Predecir los valores de y para graficar la línea de regresión\n",
    "y_pred = modelo.predict(x)\n",
    "\n",
    "# 2. Graficar el diagrama de dispersión y la línea de regresión\n",
    "plt.figure(figsize=(8, 6))\n",
    "\n",
    "# 2.1. Diagrama de dispersión\n",
    "plt.scatter(x, y, alpha=0.7, label='Datos originales')\n",
    "\n",
    "# 2.2. Línea de regresión\n",
    "plt.plot(x, y_pred, color='red', label='Línea de regresión')\n",
    "\n",
    "# 2.3. Añadir etiquetas y título\n",
    "plt.title('Gráfica de la ecuación de regresión estimada para Armand’s Pizza Parlors: $\\hat{y}=60 + 5x$')\n",
    "plt.xlabel('Población de estudiantes (miles)')\n",
    "plt.ylabel('Ventas trimestrales (miles de $)')\n",
    "plt.legend()\n",
    "plt.grid(True)\n",
    "\n",
    "# 2.4. Mostrar"
   ]
  },
  {
   "cell_type": "markdown",
   "metadata": {},
   "source": [
    "### Solución\n",
    "\n",
    "Sea **$X_i$** la VA relacionada con el promedio obtenido en la prueba de lectura critica por el i-esimo colegio \n",
    "\n",
    "A partir de la tabla podemos obtener los siguientes valores:"
   ]
  },
  {
   "cell_type": "markdown",
   "metadata": {},
   "source": [
    "Se tienen las siguientes VA:\n",
    "* Sea **$X_i$** la VA relacionada con el promedio obtenido en la prueba de matematicas por el i-esimo colegio privado\n",
    "* Sea **$Y_i$** la VA relacionada con el promedio obtenido en la prueba de matematicas por el j-esimo colegio publico"
   ]
  },
  {
   "cell_type": "code",
   "execution_count": 46,
   "metadata": {},
   "outputs": [
    {
     "data": {
      "image/png": "[encoded data removed]",
      "text/plain": [
       "<Figure size 800x600 with 1 Axes>"
      ]
     },
     "metadata": {},
     "output_type": "display_data"
    }
   ],
   "source": [
    "# 1. Calcular los residuos (errores)\n",
    "residuos = y - y_pred\n",
    "\n",
    "# 2. Graficar los residuos (errores) en función de los valores predichos\n",
    "plt.figure(figsize=(8, 6))\n",
    "plt.scatter(y_pred, residuos, alpha=0.7, color='blue')\n",
    "\n",
    "# 2.1. Dibujar una línea horizontal en y=0 para visualizar los errores\n",
    "plt.axhline(0, color='red', linestyle='--')\n",
    "\n",
    "# 2.2. Añadir etiquetas y título\n",
    "plt.title('Gráfico de Residuos')\n",
    "plt.xlabel('Valores Predichos (PROMMATE)')\n",
    "plt.ylabel('Residuos (Errores)')\n",
    "plt.grid(True)\n",
    "\n",
    "# 2.3. Mostrar el gráfico\n",
    "plt.show()"
   ]
  },
  {
   "cell_type": "markdown",
   "metadata": {},
   "source": [
    "### Metricas de rendimiento del modelo de regresión\n",
    "\n",
    "#### Error absoluto medio (MAE)\n",
    "\n",
    "$$\\text{MAE} = \\frac{1}{n} \\sum_{i=1}^{n} \\left| y_i - \\hat{y}_i \\right|$$\n",
    "\n",
    "#### Error cuadratico medio\n",
    "\n",
    "$$\\text{MSE} = \\frac{1}{n} \\sum_{i=1}^{n} (y_i - \\hat{y}_i)^2$$\n",
    "\n",
    "#### Raíz del error cuadrático medio \n",
    "\n",
    "$$\\text{RMSE} = \\sqrt{\\frac{1}{n} \\sum_{i=1}^{n} (y_i - \\hat{y}_i)^2}$$\n",
    "\n",
    "\n",
    "#### Suma de Cuadrados Residuales\n",
    "\n",
    "$$SCR = \\sum_{i=1}^{n} (y_i - \\hat{y}_i)^2$$\n",
    "\n",
    "#### Suma de Cuadrados Explicada (SCE)\n",
    "\n",
    "$$SCE = \\sum_{i=1}^{n} (\\hat{y}_i - \\bar{y})^2$$\n",
    "\n",
    "#### Suma Total de Cuadrados\n",
    "\n",
    "$$SCT = \\sum_{i=1}^{n} (y_i - \\bar{y})^2$$\n",
    "\n",
    "\n",
    "#### Coeficiente de determinación\n",
    "\n",
    "$$R^2 = \\frac{SCE}{SCT} = \\frac{SCE}{SCE+SCR} = 1 - \\frac{SCE}{SCR}  = 1 - \\frac{\\sum_{i=1}^{n} (y_i - \\hat{y}_i)^2}{\\sum_{i=1}^{n} (y_i - \\bar{y})^2}$$\n"
   ]
  },
  {
   "cell_type": "code",
   "execution_count": 73,
   "metadata": {},
   "outputs": [
    {
     "data": {
      "text/html": [
       "<div>\n",
       "<style scoped>\n",
       "    .dataframe tbody tr th:only-of-type {\n",
       "        vertical-align: middle;\n",
       "    }\n",
       "\n",
       "    .dataframe tbody tr th {\n",
       "        vertical-align: top;\n",
       "    }\n",
       "\n",
       "    .dataframe thead th {\n",
       "        text-align: right;\n",
       "    }\n",
       "</style>\n",
       "<table border=\"1\" class=\"dataframe\">\n",
       "  <thead>\n",
       "    <tr style=\"text-align: right;\">\n",
       "      <th></th>\n",
       "      <th>x_i</th>\n",
       "      <th>y_i</th>\n",
       "      <th>yp_i</th>\n",
       "      <th>e_i</th>\n",
       "      <th>dp_i</th>\n",
       "      <th>d_i</th>\n",
       "      <th>cuad_e_i</th>\n",
       "      <th>cuad_dp_i</th>\n",
       "      <th>cuad_d_i</th>\n",
       "    </tr>\n",
       "    <tr>\n",
       "      <th>restaurante</th>\n",
       "      <th></th>\n",
       "      <th></th>\n",
       "      <th></th>\n",
       "      <th></th>\n",
       "      <th></th>\n",
       "      <th></th>\n",
       "      <th></th>\n",
       "      <th></th>\n",
       "      <th></th>\n",
       "    </tr>\n",
       "  </thead>\n",
       "  <tbody>\n",
       "    <tr>\n",
       "      <th>1</th>\n",
       "      <td>2</td>\n",
       "      <td>58</td>\n",
       "      <td>70.0</td>\n",
       "      <td>-12.0</td>\n",
       "      <td>-60.0</td>\n",
       "      <td>-72.0</td>\n",
       "      <td>144.0</td>\n",
       "      <td>3600.0</td>\n",
       "      <td>5184.0</td>\n",
       "    </tr>\n",
       "    <tr>\n",
       "      <th>2</th>\n",
       "      <td>6</td>\n",
       "      <td>105</td>\n",
       "      <td>90.0</td>\n",
       "      <td>15.0</td>\n",
       "      <td>-40.0</td>\n",
       "      <td>-25.0</td>\n",
       "      <td>225.0</td>\n",
       "      <td>1600.0</td>\n",
       "      <td>625.0</td>\n",
       "    </tr>\n",
       "    <tr>\n",
       "      <th>3</th>\n",
       "      <td>8</td>\n",
       "      <td>88</td>\n",
       "      <td>100.0</td>\n",
       "      <td>-12.0</td>\n",
       "      <td>-30.0</td>\n",
       "      <td>-42.0</td>\n",
       "      <td>144.0</td>\n",
       "      <td>900.0</td>\n",
       "      <td>1764.0</td>\n",
       "    </tr>\n",
       "    <tr>\n",
       "      <th>4</th>\n",
       "      <td>8</td>\n",
       "      <td>118</td>\n",
       "      <td>100.0</td>\n",
       "      <td>18.0</td>\n",
       "      <td>-30.0</td>\n",
       "      <td>-12.0</td>\n",
       "      <td>324.0</td>\n",
       "      <td>900.0</td>\n",
       "      <td>144.0</td>\n",
       "    </tr>\n",
       "    <tr>\n",
       "      <th>5</th>\n",
       "      <td>12</td>\n",
       "      <td>117</td>\n",
       "      <td>120.0</td>\n",
       "      <td>-3.0</td>\n",
       "      <td>-10.0</td>\n",
       "      <td>-13.0</td>\n",
       "      <td>9.0</td>\n",
       "      <td>100.0</td>\n",
       "      <td>169.0</td>\n",
       "    </tr>\n",
       "    <tr>\n",
       "      <th>6</th>\n",
       "      <td>16</td>\n",
       "      <td>137</td>\n",
       "      <td>140.0</td>\n",
       "      <td>-3.0</td>\n",
       "      <td>10.0</td>\n",
       "      <td>7.0</td>\n",
       "      <td>9.0</td>\n",
       "      <td>100.0</td>\n",
       "      <td>49.0</td>\n",
       "    </tr>\n",
       "    <tr>\n",
       "      <th>7</th>\n",
       "      <td>20</td>\n",
       "      <td>157</td>\n",
       "      <td>160.0</td>\n",
       "      <td>-3.0</td>\n",
       "      <td>30.0</td>\n",
       "      <td>27.0</td>\n",
       "      <td>9.0</td>\n",
       "      <td>900.0</td>\n",
       "      <td>729.0</td>\n",
       "    </tr>\n",
       "    <tr>\n",
       "      <th>8</th>\n",
       "      <td>20</td>\n",
       "      <td>169</td>\n",
       "      <td>160.0</td>\n",
       "      <td>9.0</td>\n",
       "      <td>30.0</td>\n",
       "      <td>39.0</td>\n",
       "      <td>81.0</td>\n",
       "      <td>900.0</td>\n",
       "      <td>1521.0</td>\n",
       "    </tr>\n",
       "    <tr>\n",
       "      <th>9</th>\n",
       "      <td>22</td>\n",
       "      <td>149</td>\n",
       "      <td>170.0</td>\n",
       "      <td>-21.0</td>\n",
       "      <td>40.0</td>\n",
       "      <td>19.0</td>\n",
       "      <td>441.0</td>\n",
       "      <td>1600.0</td>\n",
       "      <td>361.0</td>\n",
       "    </tr>\n",
       "    <tr>\n",
       "      <th>10</th>\n",
       "      <td>26</td>\n",
       "      <td>202</td>\n",
       "      <td>190.0</td>\n",
       "      <td>12.0</td>\n",
       "      <td>60.0</td>\n",
       "      <td>72.0</td>\n",
       "      <td>144.0</td>\n",
       "      <td>3600.0</td>\n",
       "      <td>5184.0</td>\n",
       "    </tr>\n",
       "  </tbody>\n",
       "</table>\n",
       "</div>"
      ],
      "text/plain": [
       "             x_i  y_i   yp_i   e_i  dp_i   d_i  cuad_e_i  cuad_dp_i  cuad_d_i\n",
       "restaurante                                                                  \n",
       "1              2   58   70.0 -12.0 -60.0 -72.0     144.0     3600.0    5184.0\n",
       "2              6  105   90.0  15.0 -40.0 -25.0     225.0     1600.0     625.0\n",
       "3              8   88  100.0 -12.0 -30.0 -42.0     144.0      900.0    1764.0\n",
       "4              8  118  100.0  18.0 -30.0 -12.0     324.0      900.0     144.0\n",
       "5             12  117  120.0  -3.0 -10.0 -13.0       9.0      100.0     169.0\n",
       "6             16  137  140.0  -3.0  10.0   7.0       9.0      100.0      49.0\n",
       "7             20  157  160.0  -3.0  30.0  27.0       9.0      900.0     729.0\n",
       "8             20  169  160.0   9.0  30.0  39.0      81.0      900.0    1521.0\n",
       "9             22  149  170.0 -21.0  40.0  19.0     441.0     1600.0     361.0\n",
       "10            26  202  190.0  12.0  60.0  72.0     144.0     3600.0    5184.0"
      ]
     },
     "execution_count": 73,
     "metadata": {},
     "output_type": "execute_result"
    }
   ],
   "source": [
    "df2 = pd.DataFrame({'x_i': [2,6,8,8,12,16,20,20,22,26], 'y_i': y})\n",
    "df2['yp_i'] = y_pred\n",
    "\n",
    "y_mean = df2.y_i.mean()\n",
    "\n",
    "# Error \n",
    "def error(y_i, yp_i):\n",
    "    error = y_i - yp_i\n",
    "    return error\n",
    "\n",
    "error_i = df2.apply(lambda row: error(row['y_i'], row['yp_i']),axis=1)\n",
    "df2['e_i'] = error_i\n",
    "df2['dp_i'] = df2.apply(lambda row: error(row['yp_i'], y_mean),axis=1)\n",
    "df2['d_i'] = df2.apply(lambda row: error(row['y_i'], y_mean),axis=1)\n",
    "\n",
    "#print(baseball_df)\n",
    "df2['cuad_e_i'] = df2['e_i']**2\n",
    "df2['cuad_dp_i'] = df2['dp_i']**2\n",
    "df2['cuad_d_i'] = df2['d_i']**2\n",
    "df2"
   ]
  },
  {
   "cell_type": "code",
   "execution_count": 74,
   "metadata": {},
   "outputs": [
    {
     "name": "stdout",
     "output_type": "stream",
     "text": [
      "SCE: 14200.0\n",
      "SCR : 1530.0\n",
      "SCT: 15730.0\n",
      "R^2: 0.9027336300063573\n"
     ]
    }
   ],
   "source": [
    "# Calculo SCT, SCR y SCE\n",
    "\n",
    "# SCE: Suma de cuadrados explicada\n",
    "SCE = np.sum(df2.cuad_dp_i)\n",
    "# SCE = np.sum((y_pred - np.mean(y)) ** 2)\n",
    "\n",
    "# SCR: Suma de cuadrados residuales\n",
    "# SCR = np.sum((y - y_pred) ** 2)\n",
    "SCR = np.sum(df2.cuad_e_i)\n",
    "\n",
    "# SCT: Suma total de cuadrados\n",
    "# SCT = np.sum((y - np.mean(y)) ** 2)\n",
    "SCT = np.sum(df2.cuad_d_i)\n",
    "R2\n",
    "R2 = 1 - (SCR / SCT)\n",
    "\n",
    "# 2. Despliegue de las metricas\n",
    "print(f\"SCE: {SCE}\")\n",
    "print(f\"SCR : {SCR}\")\n",
    "print(f\"SCT: {SCT}\")\n",
    "print(f\"R^2: {R2}\")"
   ]
  },
  {
   "cell_type": "code",
   "execution_count": 66,
   "metadata": {},
   "outputs": [
    {
     "name": "stdout",
     "output_type": "stream",
     "text": [
      "SCE: 14200.0\n",
      "SCR : 1530.0\n",
      "SCT: 15730.0\n",
      "R^2: 0.9027336300063573\n"
     ]
    }
   ],
   "source": [
    "# Calculo SCT, SCR y SCE\n",
    "\n",
    "# SCE: Suma de cuadrados explicada\n",
    "SCE = np.sum((y_pred - np.mean(y)) ** 2)\n",
    "\n",
    "# SCR: Suma de cuadrados residuales\n",
    "SCR = np.sum((y - y_pred) ** 2)\n",
    "\n",
    "# SCT: Suma total de cuadrados\n",
    "SCT = np.sum((y - np.mean(y)) ** 2)\n",
    "\n",
    "# R2\n",
    "R2 = 1 - (SCR / SCT)\n",
    "\n",
    "# 2. Despliegue de las metricas\n",
    "print(f\"SCE: {SCE}\")\n",
    "print(f\"SCR : {SCR}\")\n",
    "print(f\"SCT: {SCT}\")\n",
    "print(f\"R^2: {R2}\")"
   ]
  },
  {
   "cell_type": "markdown",
   "metadata": {},
   "source": [
    "El 90.27% de la variabilidad en las ventas se explica por la relación lineal que existe entre éstas y el tamaño de la población\n",
    "de estudiantes. Sería satisfactorio encontrar un buen ajuste para la ecuación de regresión estimada."
   ]
  },
  {
   "cell_type": "markdown",
   "metadata": {},
   "source": [
    "### Coeficiente de correlacion\n",
    "\n",
    "$$r = \\frac{S_{xy}}{\\sqrt{S_{xx} S_{yy}}} = r = \\frac{\\sum_{i=1}^{n} (x_i - \\bar{x})(y_i - \\bar{y})}{\\sqrt{\\sum_{i=1}^{n} (x_i - \\bar{x})^2\\sum_{i=1}^{n} (y_i - \\bar{y})^2 }} $$\n",
    "\n",
    "$$r = \\left(signo\\;de\\;b_1\\right)\\sqrt{R^2} $$\n"
   ]
  },
  {
   "cell_type": "code",
   "execution_count": 76,
   "metadata": {},
   "outputs": [
    {
     "name": "stdout",
     "output_type": "stream",
     "text": [
      "Coeficiente de correlación (r): 0.9501229552044079\n"
     ]
    }
   ],
   "source": [
    "r = np.sqrt(R2)\n",
    "print(f\"Coeficiente de correlación (r): {r}\")\n"
   ]
  },
  {
   "cell_type": "markdown",
   "metadata": {},
   "source": [
    "Con este coeficiente $r$ es 0.9501 por lo que concluimos que existe una fuerte relación lineal positiva entre $x$ y $y$. "
   ]
  },
  {
   "cell_type": "markdown",
   "metadata": {},
   "source": [
    "### Anova\n",
    "\n",
    "| Fuente de variación | Suma de cuadrados | Grados de libertad | Cuadrado medio | F-estadístico |\n",
    "|---------------------|-------------------|--------------------|----------------|---------------|\n",
    "| Regresión           | $SCR$             | $1$                | $CMR=\\frac{SCR}{1}$       | $F$         |\n",
    "| Residuos            | $SCE$             | $n-2$              | $CMR=\\frac{SCE}{n-2}$         |               |\n",
    "| Total               | $STC$             | $n-1$              |                |               |\n",
    "\n",
    "\n"
   ]
  },
  {
   "cell_type": "code",
   "execution_count": 77,
   "metadata": {},
   "outputs": [
    {
     "data": {
      "text/html": [
       "<div>\n",
       "<style scoped>\n",
       "    .dataframe tbody tr th:only-of-type {\n",
       "        vertical-align: middle;\n",
       "    }\n",
       "\n",
       "    .dataframe tbody tr th {\n",
       "        vertical-align: top;\n",
       "    }\n",
       "\n",
       "    .dataframe thead th {\n",
       "        text-align: right;\n",
       "    }\n",
       "</style>\n",
       "<table border=\"1\" class=\"dataframe\">\n",
       "  <thead>\n",
       "    <tr style=\"text-align: right;\">\n",
       "      <th></th>\n",
       "      <th>sum_sq</th>\n",
       "      <th>df</th>\n",
       "      <th>F</th>\n",
       "      <th>PR(&gt;F)</th>\n",
       "    </tr>\n",
       "  </thead>\n",
       "  <tbody>\n",
       "    <tr>\n",
       "      <th>estudiantes_miles</th>\n",
       "      <td>14200.0</td>\n",
       "      <td>1.0</td>\n",
       "      <td>74.248366</td>\n",
       "      <td>0.000025</td>\n",
       "    </tr>\n",
       "    <tr>\n",
       "      <th>Residual</th>\n",
       "      <td>1530.0</td>\n",
       "      <td>8.0</td>\n",
       "      <td>NaN</td>\n",
       "      <td>NaN</td>\n",
       "    </tr>\n",
       "  </tbody>\n",
       "</table>\n",
       "</div>"
      ],
      "text/plain": [
       "                    sum_sq   df          F    PR(>F)\n",
       "estudiantes_miles  14200.0  1.0  74.248366  0.000025\n",
       "Residual            1530.0  8.0        NaN       NaN"
      ]
     },
     "metadata": {},
     "output_type": "display_data"
    }
   ],
   "source": [
    "# Crear un DataFrame con los datos originales para usar con statsmodels\n",
    "df_anova = pd.DataFrame({\n",
    "    'estudiantes_miles': df.estudiantes_miles.values,\n",
    "    'ventas_trim_miles': df.ventas_trim_miles\n",
    "})\n",
    "\n",
    "# Ajustar el modelo de regresión lineal con OLS (Ordinary Least Squares)\n",
    "modelo_anova = ols('ventas_trim_miles ~ estudiantes_miles', data=df_anova).fit()\n",
    "\n",
    "# Generar la tabla ANOVA utilizando el modelo ajustado\n",
    "tabla_anova = sm.stats.anova_lm(modelo_anova, typ=2)\n",
    "\n",
    "# Mostrar la tabla ANOVA\n",
    "# import ace_tools as tools; tools.display_dataframe_to_user(name=\"Tabla ANOVA calculada\", dataframe=tabla_anova)\n",
    "display(tabla_anova)"
   ]
  },
  {
   "cell_type": "markdown",
   "metadata": {},
   "source": [
    "## Supuestos del modelo\n",
    "\n",
    "En un análisis de regresión se empieza por hacer un supuesto acerca del modelo apropiado para la relación entre las variables dependientes e independientes. En el caso de la regresión lineal simple, se supone que el modelo de regresión es\n",
    "\n",
    "$$y = \\beta_0 + \\beta_1x + \\epsilon$$\n",
    "\n",
    "\n",
    "Sin embargo, aun cuando se obtenga un valor grande para $R^2$, la ecuación de regresión estimada no debe ser usada sino hasta que se realice un análisis para determinar si el modelo empleado es apropiado. Un paso importante para ver si el supuesto del modelo es adecuado, consiste en probar la signifi cancia de la relación. Las pruebas de significancia en el análisis de regresión están basadas en los siguientes supuestos acerca del término del error $\\epsilon$.\n",
    "\n",
    "1. $E(\\epsilon) = 0$\n",
    "2. $VAR(\\epsilon) = \\sigma^2 = cte$\n",
    "3. Los valores de $\\epsilon$ con independientes (no estan correlacionados).\n",
    "4. El término del error $\\epsilon$ es una variable aleatoria distribuida normalmente."
   ]
  },
  {
   "cell_type": "markdown",
   "metadata": {},
   "source": [
    "### Validación de supuestos\n",
    "\n",
    "El diagnóstico del modelo se realiza haciendo uso de los residuales:\n",
    "\n",
    "$$e_i = y_i - \\hat{y_i}$$\n",
    "\n",
    "Se debe verificar que estos residuales cumplan:\n",
    "* Independencia (\"aleatoriedad\")\n",
    "* Normalidad \n",
    "* Varianza constante\n",
    "* Linealidad"
   ]
  },
  {
   "cell_type": "markdown",
   "metadata": {},
   "source": [
    "### Varianza constante\n",
    "\n",
    "Para el caso lo que vamos a probar es lo siguiente:\n",
    "\n",
    "**Hipótesis**:\n",
    "* $\\bold{H_o}$: La varianza de los residuos **es constante** en todos los colegios.\n",
    "\n",
    "\n",
    "**Hipótesis**:\n",
    "* $\\bold{H_o}: V[\\epsilon_i] = \\sigma^2$ (La varianza es constante)\n",
    "* $\\bold{H_a}: V[\\epsilon_i] \\neq \\sigma^2$ (La varianza no es constante)\n",
    "\n",
    "**Regla de decisión**: Se rechaza $Ho$ si $VP < \\alpha$\n",
    "\n",
    "**Hipótesis**:\n",
    "* $\\bold{H_o}: V[\\epsilon_i] = \\sigma^2$ (La varianza es constante)\n",
    "* $\\bold{H_a}: V[\\epsilon_i] \\neq \\sigma^2$ (La varianza no es constante)\n",
    "\n",
    "**Regla de decisión**: Se rechaza $Ho$ si $VP < \\alpha$"
   ]
  },
  {
   "cell_type": "code",
   "execution_count": 78,
   "metadata": {},
   "outputs": [
    {
     "data": {
      "image/png": "[encoded data removed]",
      "text/plain": [
       "<Figure size 800x600 with 1 Axes>"
      ]
     },
     "metadata": {},
     "output_type": "display_data"
    }
   ],
   "source": [
    "# 1. Calcular los residuos (errores)\n",
    "residuos = y - y_pred\n",
    "\n",
    "# 2. Graficar los residuos (errores) en función de los valores predichos\n",
    "plt.figure(figsize=(8, 6))\n",
    "plt.scatter(y_pred, residuos, alpha=0.7, color='blue')\n",
    "\n",
    "# 2.1. Dibujar una línea horizontal en y=0 para visualizar los errores\n",
    "plt.axhline(0, color='red', linestyle='--')\n",
    "\n",
    "# 2.2. Añadir etiquetas y título\n",
    "plt.title('Gráfico de Residuos')\n",
    "plt.xlabel('Valores Predichos (PROMMATE)')\n",
    "plt.ylabel('Residuos (Errores)')\n",
    "plt.grid(True)\n",
    "\n",
    "# 2.3. Mostrar el gráfico\n",
    "plt.show()"
   ]
  },
  {
   "cell_type": "code",
   "execution_count": 84,
   "metadata": {},
   "outputs": [
    {
     "name": "stdout",
     "output_type": "stream",
     "text": [
      "Estadístico de Bartlett: 2.012558260892837\n",
      "Valor p: 0.15600206401595007\n"
     ]
    }
   ],
   "source": [
    "# Realizar el test de Bartlett\n",
    "x_list = [2,6,8,8,12,16,20,20,22,26]\n",
    "stat, p_value = bartlett(x_list, residuos)\n",
    "\n",
    "# Mostrar el resultado\n",
    "print(f'Estadístico de Bartlett: {stat}')\n",
    "print(f'Valor p: {p_value}')"
   ]
  },
  {
   "cell_type": "markdown",
   "metadata": {},
   "source": [
    "Dado que el valor p es mayor que el nivel de significancia de 0.05, **no se rechaza la hipótesis nula**. Esto sugiere que las varianzas de los residuos son homogéneas (hay homocedasticidad), es decir, los errores tienen varianza constante."
   ]
  },
  {
   "cell_type": "code",
   "execution_count": 93,
   "metadata": {},
   "outputs": [
    {
     "data": {
      "text/html": [
       "<div>\n",
       "<style scoped>\n",
       "    .dataframe tbody tr th:only-of-type {\n",
       "        vertical-align: middle;\n",
       "    }\n",
       "\n",
       "    .dataframe tbody tr th {\n",
       "        vertical-align: top;\n",
       "    }\n",
       "\n",
       "    .dataframe thead th {\n",
       "        text-align: right;\n",
       "    }\n",
       "</style>\n",
       "<table border=\"1\" class=\"dataframe\">\n",
       "  <thead>\n",
       "    <tr style=\"text-align: right;\">\n",
       "      <th></th>\n",
       "      <th>const</th>\n",
       "      <th>estudiantes_miles</th>\n",
       "    </tr>\n",
       "    <tr>\n",
       "      <th>restaurante</th>\n",
       "      <th></th>\n",
       "      <th></th>\n",
       "    </tr>\n",
       "  </thead>\n",
       "  <tbody>\n",
       "    <tr>\n",
       "      <th>1</th>\n",
       "      <td>1.0</td>\n",
       "      <td>2</td>\n",
       "    </tr>\n",
       "    <tr>\n",
       "      <th>2</th>\n",
       "      <td>1.0</td>\n",
       "      <td>6</td>\n",
       "    </tr>\n",
       "    <tr>\n",
       "      <th>3</th>\n",
       "      <td>1.0</td>\n",
       "      <td>8</td>\n",
       "    </tr>\n",
       "    <tr>\n",
       "      <th>4</th>\n",
       "      <td>1.0</td>\n",
       "      <td>8</td>\n",
       "    </tr>\n",
       "    <tr>\n",
       "      <th>5</th>\n",
       "      <td>1.0</td>\n",
       "      <td>12</td>\n",
       "    </tr>\n",
       "    <tr>\n",
       "      <th>6</th>\n",
       "      <td>1.0</td>\n",
       "      <td>16</td>\n",
       "    </tr>\n",
       "    <tr>\n",
       "      <th>7</th>\n",
       "      <td>1.0</td>\n",
       "      <td>20</td>\n",
       "    </tr>\n",
       "    <tr>\n",
       "      <th>8</th>\n",
       "      <td>1.0</td>\n",
       "      <td>20</td>\n",
       "    </tr>\n",
       "    <tr>\n",
       "      <th>9</th>\n",
       "      <td>1.0</td>\n",
       "      <td>22</td>\n",
       "    </tr>\n",
       "    <tr>\n",
       "      <th>10</th>\n",
       "      <td>1.0</td>\n",
       "      <td>26</td>\n",
       "    </tr>\n",
       "  </tbody>\n",
       "</table>\n",
       "</div>"
      ],
      "text/plain": [
       "             const  estudiantes_miles\n",
       "restaurante                          \n",
       "1              1.0                  2\n",
       "2              1.0                  6\n",
       "3              1.0                  8\n",
       "4              1.0                  8\n",
       "5              1.0                 12\n",
       "6              1.0                 16\n",
       "7              1.0                 20\n",
       "8              1.0                 20\n",
       "9              1.0                 22\n",
       "10             1.0                 26"
      ]
     },
     "execution_count": 93,
     "metadata": {},
     "output_type": "execute_result"
    }
   ],
   "source": [
    "# Obtener el valor ajustado (predicciones) y residuos para el test de Breusch-Pagan\n",
    "x_with_const = sm.add_constant(df['estudiantes_miles'])\n",
    "x_with_const\n"
   ]
  },
  {
   "cell_type": "code",
   "execution_count": 96,
   "metadata": {},
   "outputs": [
    {
     "name": "stdout",
     "output_type": "stream",
     "text": [
      "Estadístico de White: 0.02774968550356416\n",
      "Valor p: 0.8676986677175519\n"
     ]
    }
   ],
   "source": [
    "# Realizar el test de Breusch-Pagan\n",
    "bp_test = het_breuschpagan(residuos, x_with_const)\n",
    "\n",
    "# El test devuelve 4 valores: estadístico de Lagrange Multiplier, p-valor, estadístico f y p-valor f\n",
    "bp_stat, bp_p_value, _, _ = bp_test\n",
    "\n",
    "# Mostrar los resultados\n",
    "print(f'Estadístico de White: {bp_stat}')\n",
    "print(f'Valor p: {bp_p_value}')"
   ]
  },
  {
   "cell_type": "markdown",
   "metadata": {},
   "source": [
    "Dado que el valor p es mayor que 0.05, no se rechaza la hipótesis nula. Esto indica que no hay evidencia suficiente para concluir que los errores presentan heterocedasticidad, lo que sugiere que los errores tienen varianza constante (homocedasticidad) en esta distribución."
   ]
  },
  {
   "cell_type": "markdown",
   "metadata": {},
   "source": [
    "### Normalidad"
   ]
  },
  {
   "cell_type": "code",
   "execution_count": 87,
   "metadata": {},
   "outputs": [
    {
     "data": {
      "text/plain": [
       "(0.937588632106781, 0.5265070199966431)"
      ]
     },
     "execution_count": 87,
     "metadata": {},
     "output_type": "execute_result"
    }
   ],
   "source": [
    "# Realizar la prueba de Shapiro-Wilk para los residuos\n",
    "shapiro_stat, shapiro_p_value = shapiro(residuos)\n",
    "shapiro_stat, shapiro_p_value"
   ]
  },
  {
   "cell_type": "code",
   "execution_count": 88,
   "metadata": {},
   "outputs": [
    {
     "data": {
      "image/png": "[encoded data removed]",
      "text/plain": [
       "<Figure size 640x480 with 1 Axes>"
      ]
     },
     "metadata": {},
     "output_type": "display_data"
    }
   ],
   "source": [
    "# Generar el Q-Q plot para visualizar la normalidad de los residuos\n",
    "sm.qqplot(residuos, line ='45')\n",
    "plt.title('Q-Q Plot de los Residuos')\n",
    "plt.show()"
   ]
  },
  {
   "cell_type": "markdown",
   "metadata": {},
   "source": [
    "Dado que el valor p es mayor que 0.05, no se rechaza la hipótesis nula de que los residuos se distribuyen normalmente. Esto significa que no hay evidencia suficiente para concluir que los residuos no siguen una distribución normal.\n",
    "\n",
    "Además, el Q-Q plot muestra visualmente que los residuos están alineados con la línea diagonal, lo que sugiere que los errores tienen una distribución aproximadamente normal."
   ]
  },
  {
   "cell_type": "markdown",
   "metadata": {},
   "source": [
    "### Aleatoriedad"
   ]
  },
  {
   "cell_type": "code",
   "execution_count": 99,
   "metadata": {},
   "outputs": [
    {
     "data": {
      "text/plain": [
       "3.223529411764706"
      ]
     },
     "execution_count": 99,
     "metadata": {},
     "output_type": "execute_result"
    }
   ],
   "source": [
    "dw_stat = durbin_watson(residuos)\n",
    "\n",
    "dw_stat"
   ]
  },
  {
   "cell_type": "markdown",
   "metadata": {},
   "source": [
    "El valor del estadístico de Durbin-Watson para los residuos de este modelo es aproximadamente 3.22.\n",
    "\n",
    "Interpretación:\n",
    "* Un valor cercano a 2 indica que no hay autocorrelación en los errores (los errores son aleatorios).\n",
    "* Un valor cercano a 0 indicaría autocorrelación positiva.\n",
    "* Un valor cercano a 4 indicaría autocorrelación negativa.\n",
    "\n",
    "Dado que el valor obtenido es cercano a 4, esto sugiere que podría haber autocorrelación negativa en los errores. Esto significa que, en general, un error positivo tiende a ser seguido por un error negativo, y viceversa, lo que indica que los errores no son completamente aleatorios.\n",
    "\n",
    "Si deseas más análisis o alguna otra prueba, estaré encantado de ayudarte. ​"
   ]
  },
  {
   "cell_type": "markdown",
   "metadata": {},
   "source": [
    "### Estandarizar los residuales\n",
    "\n",
    "$$MCE = \\frac{SCE}{n - 2} = \\frac{1}{n-2} \\sum_{i=1}^{n} (y_i - \\hat{y}_i)^2$$\n",
    "\n",
    "Fórmula para estandarizar los residuos:\n",
    "\n",
    "Los residuos estandarizados se calculan utilizando la siguiente fórmula:\n",
    "\n",
    "$$d_i = \\frac{e_i}{s_e} = \\frac{e_i}{\\sqrt{MCE}}$$\n",
    "\n",
    "Donde:\n",
    "* $d_i$: es el residuo estandarizado para la observación \n",
    "* $e_i$: es el residuo ordinario para la observación $i$ (diferencia entre el valor observado y el valor predicho).\n",
    "* $s_e$: es la desviación estándar de los residuos."
   ]
  },
  {
   "cell_type": "code",
   "execution_count": 101,
   "metadata": {},
   "outputs": [
    {
     "name": "stdout",
     "output_type": "stream",
     "text": [
      "restaurante\n",
      "1    -0.867722\n",
      "2     1.084652\n",
      "3    -0.867722\n",
      "4     1.301583\n",
      "5    -0.216930\n",
      "6    -0.216930\n",
      "7    -0.216930\n",
      "8     0.650791\n",
      "9    -1.518513\n",
      "10    0.867722\n",
      "Name: ventas_trim_miles, dtype: float64\n"
     ]
    }
   ],
   "source": [
    "# Calcular la desviación estándar de los residuos\n",
    "se = np.std(residuos, ddof=2)\n",
    "\n",
    "# Estandarizar los residuos\n",
    "residuos_estandarizados = residuos / se\n",
    "\n",
    "# Mostrar los residuos estandarizados\n",
    "print(residuos_estandarizados)"
   ]
  },
  {
   "cell_type": "markdown",
   "metadata": {},
   "source": [
    "Sin embargo, aun cuando se obtenga un valor grande para $R^2$, la ecuación de regresión estimada no debe ser usada sino hasta que se realice un análisis para determinar si el modelo empleado es apropiado. Un paso importante para ver si el supuesto del modelo es adecuado, consiste en probar la signifi cancia de la relación. Las pruebas de significancia en el análisis de regresión están basadas en los siguientes supuestos acerca del término del error $\\epsilon$.\n",
    "\n",
    "\n",
    "$$s^2 = ECM = \\frac{SCE}{n - 2} = \\frac{1}{n-2} \\sum_{i=1}^{n} (y_i - \\hat{y}_i)^2 $$"
   ]
  },
  {
   "cell_type": "markdown",
   "metadata": {},
   "source": [
    "* https://github.com/OpenIntroStat/openintro-statistics-slides\n",
    "* https://365datascience.com/calculators/confidence-interval-calculator/\n",
    "* https://oercommons.org/authoring/18167-openstax-introductory-statistics-videos-with-lectu/view\n",
    "* https://stanford.edu/~shervine/teaching/cme-106/\n",
    "* https://datatab.es/tutorial/confidence-interval\n",
    "* https://neuraldatascience.io/3b-ai_assisted/multi_data_files_2.html\n",
    "* https://stanford.edu/~shervine/teaching/cme-106/cheatsheet-statistics#confidence-intervals"
   ]
  },
  {
   "cell_type": "markdown",
   "metadata": {},
   "source": []
  }
 ],
 "metadata": {
  "kernelspec": {
   "display_name": "Python 3",
   "language": "python",
   "name": "python3"
  },
  "language_info": {
   "codemirror_mode": {
    "name": "ipython",
    "version": 3
   },
   "file_extension": ".py",
   "mimetype": "text/x-python",
   "name": "python",
   "nbconvert_exporter": "python",
   "pygments_lexer": "ipython3",
   "version": "3.9.13"
  }
 },
 "nbformat": 4,
 "nbformat_minor": 2
}
