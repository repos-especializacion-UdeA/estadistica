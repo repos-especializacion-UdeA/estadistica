{
 "cells": [
  {
   "cell_type": "markdown",
   "metadata": {},
   "source": [
    "[![Open in Colab](https://colab.research.google.com/assets/colab-badge.svg)](https://colab.research.google.com/github/repos-especializacion-UdeA/estadistica/blob/main/trabajo1.ipynb)"
   ]
  },
  {
   "cell_type": "code",
   "execution_count": 2,
   "metadata": {},
   "outputs": [],
   "source": [
    "import scipy.stats as stats\n",
    "import numpy as np\n",
    "import matplotlib.pyplot as plt\n",
    "import pandas as pd"
   ]
  },
  {
   "cell_type": "markdown",
   "metadata": {},
   "source": [
    "# Trabajo 1\n",
    "\n",
    "Para solucionar los siguentes enunciados es necesario platear, de ser posible, la(s) variable(s) a utilizar, su distribución y los parámetros con sus respectivos valores. Además su solución debe incluir el código en Python utilzado para su solución.\n",
    "\n",
    "## Integrantes\n",
    "\n",
    "* Jairo Agudelo.\n",
    "* Henry Arcila.\n",
    "\n",
    "## Problemas"
   ]
  },
  {
   "cell_type": "markdown",
   "metadata": {},
   "source": [
    "1. Un fabricante asegura que solo el 5% de su producción total se encuentra defectuosa. Supóngase que se ordenan 1000 artículos y se seleccionan 25 al azar para inspeccionarlos. Si el fabricante se encuentra en lo correcto, la probabilidad de observar dos o más artículos defectuosos en la muestra es?\n",
    "\n",
    "   **Solucion**:\n",
    "\n",
    "   Sea $X$ el numero de articulos defectuosos tomados de la selección de 25 elementos. Tenemos que $X \\sim Binom(n,p)$ donde:\n",
    "   * $n = 25$\n",
    "   * $p = 0.05$\n",
    "\n",
    "   Y lo que se pide es: $P(X \\geq 2) = ?$"
   ]
  },
  {
   "cell_type": "code",
   "execution_count": 11,
   "metadata": {},
   "outputs": [
    {
     "name": "stdout",
     "output_type": "stream",
     "text": [
      "P(X <= 2) = 0.35762\n"
     ]
    }
   ],
   "source": [
    "\"\"\"\n",
    "Definición de la VA binomial: X ~ Bin(n,p)\n",
    "\n",
    "X: el numero de articulos defectuosos tomados de la selección de 25 elementos\n",
    "- n = 25\n",
    "- p: 0.05\n",
    "- q: 1 - p = 0.95\n",
    "\"\"\"\n",
    "X = stats.binom(n = 25, p = 0.05) # X ~ Binom(n = 25, p = 0.05)\n",
    "P_lt_1 = X.cdf(1)\n",
    "P_geq_2 = 1 - P_lt_1\n",
    "print(f\"P(X <= 2) = {P_geq_2:.5}\")\n"
   ]
  },
  {
   "cell_type": "markdown",
   "metadata": {},
   "source": [
    "**Rta**: La probabilidad de observar dos o mas articulos defectuosos en la muestra es de un 35.76%"
   ]
  },
  {
   "cell_type": "markdown",
   "metadata": {},
   "source": [
    "2. Para los estudiantes es de vital importancia tener un almuerzo tranquilo, pero fundamentalmente que sea servido con rapidez. En una universidad hay dos restaurantes grandes que sirven ricos platos, el primer restaurante se demora en promedio en atender 20 minutos con una desviación de 3 minutos, el segundo tarda en promedio 17 minutos en atender con una desviación de 8 minutos. Suponga que los tiempos en los que se atiende en ambos restaurantes se distribuyen de manera normal. Un estudiante de particular cuenta con un máximo de 21 min para ser atendido. ¿El restaurante a elegir es?\n",
    "   \n",
    "   **Solucion**:\n",
    "\n",
    "   Sea $X_i$ el tiempo de atencion (en min) del restaurante $i$. Con $i = {1,2}$. Ademas sea $X_i \\sim N(\\mu_i, \\sigma_i^2)$; para cada restaurante:\n",
    "   * **Restaurante 1**:\n",
    "     * $\\mu_1 = 20$\n",
    "     * $\\sigma_1 = 3$\n",
    "   * **Restaurante 2**:\n",
    "     * $\\mu_2 = 17$\n",
    "     * $\\sigma_2 = 8$\n",
    "\n",
    "   Para responder la pregunta tenemos que calcular $P(X_1 <= 21)$ y $P(X_2 <= 21)$ y el valor que de mayor de las probabilidades anteriores será el que determine el restaurante que se elegirá:"
   ]
  },
  {
   "cell_type": "code",
   "execution_count": 12,
   "metadata": {},
   "outputs": [
    {
     "name": "stdout",
     "output_type": "stream",
     "text": [
      "P(X1 <= 12) = 0.63056\n",
      "P(X2 <= 12) = 0.69146\n",
      "La mejor opcion es el restaurante 2\n"
     ]
    }
   ],
   "source": [
    "\"\"\"\n",
    "Restaurante 1: X1 ~ N(mu1,sigma1)\n",
    "\n",
    "- mu1 = 20\n",
    "- sigma1 = 3\n",
    "\"\"\"\n",
    "\n",
    "mu1 = 20\n",
    "sigma1 = 3\n",
    "\n",
    "X1 = stats.norm(loc = mu1, scale = sigma1)\n",
    "\n",
    "P1_leq_21 = X1.cdf(21)\n",
    "print(f\"P(X1 <= 12) = {P1_leq_21:.5}\")\n",
    "\n",
    "\"\"\"\n",
    "Restaurante 2: X2 ~ N(mu2,sigma2)\n",
    "\n",
    "- mu2 = 17\n",
    "- sigma2 = 8\n",
    "\"\"\"\n",
    "\n",
    "mu2 = 17\n",
    "sigma2 = 8\n",
    "\n",
    "X2 = stats.norm(loc = mu2, scale = sigma2)\n",
    "P2_leq_21 = X2.cdf(21)\n",
    "print(f\"P(X2 <= 12) = {P2_leq_21:.5}\")\n",
    "\n",
    "if P2_leq_21 == P1_leq_21:\n",
    "    print(\"Da igual\")\n",
    "elif P1_leq_21 > P2_leq_21:\n",
    "    print(\"La mejor opcion es el restaurante 1\")\n",
    "else:\n",
    "    print(\"La mejor opcion es el restaurante 2\")"
   ]
  },
  {
   "cell_type": "markdown",
   "metadata": {},
   "source": [
    "**Rta**: La mejor opción para comer el almuerzo es el restaurante 2"
   ]
  },
  {
   "cell_type": "markdown",
   "metadata": {},
   "source": [
    "3. El tiempo entre llegadas de avionetas a un aeropuerto tiene una distribución exponencial con un tiempo medio de 12 horas. Si se escogen los siguientes 25 intervalos de una hora, la probabilidad de que exactamente en uno de ellos, hayan aterrizado más de tres avionetas, ¿es?\n",
    "   \n",
    "   * **Solución**:\n",
    "     \n",
    "     Este problema se resuelve en dos partes. \n",
    "     1. Uso de una distribución de Poisson para determinar la probabilidad de que en una hora hayan aterrizado mas de tres avionetas. Esto es:\n",
    "        \n",
    "        Sea $X$ el número de avionetas que aterrizan en un intervalo de una hora. Con $X \\sim Poisson(\\lambda = 1/12)$. Tenemos:\n",
    "        * $\\lambda = 1/12$\n",
    "        * $P(X > 3) = ?$\n",
    "\n",
    "     2. Uso de una distribución Binomial para saber el numero de intervalos en los que se cumple que aterrizan mas de tres avionetas.\n",
    "        \n",
    "        Sea $Y$ el numero de intervalos (de un total de 25) en los que aterrizan mas de 3 avionetas. Con $Y \\sim Binom(n = 15, p = P(X \\gt 3)). Esto es:\n",
    "        * $n = 25$\n",
    "        * $p = P(X \\gt 3)$, donde el valor de $P(X > 3)$ se obtiene de la primera parte.\n",
    "        * $P(Y = 1) = ?$\n",
    "\n",
    "     Al final del problema, lo que se pide es $P(Y = 1) = ?$"
   ]
  },
  {
   "cell_type": "code",
   "execution_count": 24,
   "metadata": {},
   "outputs": [
    {
     "name": "stdout",
     "output_type": "stream",
     "text": [
      "P(X > 3) = 0.00000188\n",
      "P(Y = 1) = 0.000047\n"
     ]
    }
   ],
   "source": [
    "# ---------------------------- Parte 1 ----------------------------\n",
    "l = 1/12 # lambda\n",
    "\n",
    "X = stats.poisson(mu = l) # Poison: X ~ Poisson(lambda = 1/12)\n",
    "P_gt_3 = 1 - X.cdf(3)\n",
    "print(f\"P(X > 3) = {P_gt_3:.8f}\")\n",
    "\n",
    "# ---------------------------- Parte 1 ----------------------------\n",
    "n = 25\n",
    "p = P_gt_3\n",
    "Y = stats.binom(n = 25, p = P_gt_3) # X ~ Binom(n = 25, p = 0.05)\n",
    "P_eq_1 = Y.pmf(1)\n",
    "print(f\"P(Y = 1) = {P_eq_1:.6f}\")"
   ]
  },
  {
   "cell_type": "markdown",
   "metadata": {},
   "source": [
    "**Rta**: La probabilidad de que haya más de tres llegadas en un exactamente uno de los 25 intervalos es de 0.0047% lo cual hace que este evento sea muy poco probable."
   ]
  },
  {
   "cell_type": "markdown",
   "metadata": {},
   "source": [
    "4. Por experiencia se sabe que el 25% de los estudiantes de un curso, el cual se califica de 0 a 5, lo reprueban. Se sabe que las notas obtenidas por los estudiantes en dicho curso tienen una distribución normal con una nota media de 3.6. ¿Si un estudiante termina el curso, la probabilidad de que su nota sea superior a 4 es?\n",
    "   \n",
    "   **Solución**:\n",
    "\n",
    "   Sea $X$ la calificación en el rango [0,5] obtenida por el estudiante. Según el enunciado:\n",
    "   * $X \\sim N(\\mu = 3.6, \\sigma^2 = ?)$ \n",
    "   * $P(X < 3) = 0.25$\n",
    "   \n",
    "   Se pide: $P(X>4) = ?$"
   ]
  },
  {
   "cell_type": "code",
   "execution_count": 17,
   "metadata": {},
   "outputs": [
    {
     "name": "stdout",
     "output_type": "stream",
     "text": [
      "sigma = 0.8896\n",
      "P(X >= 4) = 0.32648\n"
     ]
    }
   ],
   "source": [
    "mu = 3.6\n",
    "P_lt_3 = 0.25\n",
    "\n",
    "# Obtencion del percentil valor Z asociado al 25%\n",
    "Z = stats.norm.ppf(P_lt_3)\n",
    "\n",
    "# Obteniendo el valor de la desviacion estandar\n",
    "sigma = -0.6/Z\n",
    "print(f\"sigma = {sigma:.4}\")\n",
    "\n",
    "\"\"\"\n",
    "Datos asociados a la VA normal\n",
    "\n",
    "X ~ N(mu = 3.6, sigma = 0.8866)\n",
    "\"\"\"\n",
    "X = stats.norm(loc = mu, scale = sigma)\n",
    "\n",
    "# Probabilidad pedida\n",
    "P_geq_4 = 1 -  X.cdf(4)\n",
    "print(f\"P(X >= 4) = {P_geq_4:.5}\")\n"
   ]
  },
  {
   "cell_type": "markdown",
   "metadata": {},
   "source": [
    "**Rta**: La probabilidad de que un estudiante saque mas de 4 al terminar el curso es de un 32.648 %"
   ]
  },
  {
   "cell_type": "markdown",
   "metadata": {},
   "source": [
    "5. El operador de una estación de bombeo observa que el tiempo de consumo del agua durante las primeras horas de la tarde tiene aproximadamente una distribución exponencial con una media de 120 seg. La probabilidad de que el tiempo de consumo sea superior a los 180 seg. durante las primeras horas de la tarde en un día seleccionado al azar es?\n",
    "   \n",
    "   **Solución**:\n",
    "\n",
    "   Sea $X$ el tiempo de consumo en segundos. Ademas tenemos que:\n",
    "   * $E(X) = 120$\n",
    "   * $\\lambda = 1/E(X) = 1/120$ \n",
    "   \n",
    "   Luego $X \\sim Exp(\\lambda = 1/20)$ y se pide: $P(X > 180) = ?$ \n"
   ]
  },
  {
   "cell_type": "code",
   "execution_count": 19,
   "metadata": {},
   "outputs": [
    {
     "name": "stdout",
     "output_type": "stream",
     "text": [
      "P(X > 180) = 0.22313\n"
     ]
    }
   ],
   "source": [
    "\"\"\"\n",
    "Definición de la VA exponencial: X ~ Exp(lambda = 1/20)\n",
    "\"\"\"\n",
    "E = 120\n",
    "l = 1/120\n",
    "\n",
    "X = stats.expon(scale = 1/l)\n",
    "\n",
    "P_gt_180 = 1 - X.cdf(180)\n",
    "print(f\"P(X > 180) = {P_gt_180:.5}\")"
   ]
  },
  {
   "cell_type": "markdown",
   "metadata": {},
   "source": [
    "**Rta**: La probabilidad de que el tiempo de consumo sea superior a los 180 segundos es de 22.313 %"
   ]
  }
 ],
 "metadata": {
  "kernelspec": {
   "display_name": "Python 3",
   "language": "python",
   "name": "python3"
  },
  "language_info": {
   "codemirror_mode": {
    "name": "ipython",
    "version": 3
   },
   "file_extension": ".py",
   "mimetype": "text/x-python",
   "name": "python",
   "nbconvert_exporter": "python",
   "pygments_lexer": "ipython3",
   "version": "3.9.13"
  }
 },
 "nbformat": 4,
 "nbformat_minor": 2
}
