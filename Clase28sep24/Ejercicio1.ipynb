{
 "cells": [
  {
   "cell_type": "code",
   "execution_count": 23,
   "metadata": {},
   "outputs": [
    {
     "name": "stdout",
     "output_type": "stream",
     "text": [
      "Los autovalores son:\n",
      "[7.05617529 1.14456241 0.01503178 0.7142612  0.42096933]\n",
      "La varianza total es:\n",
      "9.35\n",
      "El porcentaje de varianza explicado por el primer componente principal es: 75.46%\n",
      "El porcentaje de varianza explicado por el segundo componente principal es: 0.12\n",
      "El porcentaje de varianza explicado por el tercer componente principal es: 0.00\n",
      "El porcentaje de varianza explicado por el cuarto componente principal es: 0.08\n",
      "El porcentaje de varianza explicado por el quinto componente principal es: 0.05\n",
      "El valor Y11 es: 10.36\n",
      "El valor Y21 es: -10.96\n",
      "El valor Y31 es: -0.07\n",
      "El valor Y12 es: 6.59\n",
      "El valor Y22 es: -10.08\n",
      "El valor Y32 es: 0.15\n"
     ]
    }
   ],
   "source": [
    "import numpy as np\n",
    "X = [4.32, 14.01, 1.95, 2.17, 2.45]\n",
    "\n",
    "S = [[4.308, 1.683, 1.803, 2.155, -0.253],\n",
    "     [1.683, 1.768, 0.588, 0.177, 0.176],\n",
    "     [1.803, 0.588, 0.801, 1.065, -0.158],\n",
    "     [2.155, 1.177, 1.065, 1.970, -0.357],\n",
    "     [-0.253, 0.176, -0.158, -0.357, 0.504]]\n",
    "\n",
    "autovalores, autovectores = np.linalg.eig(S)\n",
    "print(\"Los autovalores son:\")\n",
    "print(autovalores)\n",
    "\n",
    "Varianza_total = sum(autovalores)\n",
    "print(\"La varianza total es:\")\n",
    "print(round(Varianza_total,2))\n",
    "\n",
    "Porcentaje_Varianza1 = autovalores[0]/Varianza_total\n",
    "print(f\"El porcentaje de varianza explicado por el primer componente principal es: {Porcentaje_Varianza1*100:.2f}%\")\n",
    "\n",
    "Porcentaje_Varianza2 = autovalores[1]/Varianza_total\n",
    "print(f\"El porcentaje de varianza explicado por el segundo componente principal es: {Porcentaje_Varianza2:.2f}\")\n",
    "\n",
    "Porcentaje_Varianza3 = autovalores[2]/Varianza_total\n",
    "print(f\"El porcentaje de varianza explicado por el tercer componente principal es: {Porcentaje_Varianza3:.2f}\")\n",
    "\n",
    "Porcentaje_Varianza4 = autovalores[3]/Varianza_total\n",
    "print(f\"El porcentaje de varianza explicado por el cuarto componente principal es: {Porcentaje_Varianza4:.2f}\")\n",
    "\n",
    "Porcentaje_Varianza5 = autovalores[4]/Varianza_total\n",
    "print(f\"El porcentaje de varianza explicado por el quinto componente principal es: {Porcentaje_Varianza5:.2f}\")\n",
    "\n",
    "Xf1 = [5.935, 14.2, 2.265, 2.27, 2.91]\n",
    "Xf2 = [1.523, 13.1, 0.597, 0.75, 2.62]\n",
    "Xf2 = [2.599, 12.7, 1.237, 1.11, 1,72]\n",
    "Y11 = np.dot(autovectores[:,0], Xf1[0:5])\n",
    "Y21 = np.dot(autovectores[:,1], Xf1[0:5])\n",
    "Y31 = np.dot(autovectores[:,2], Xf1[0:5])\n",
    "print(f\"El valor Y11 es: {Y11:.2f}\")\n",
    "print(f\"El valor Y21 es: {Y21:.2f}\")\n",
    "print(f\"El valor Y31 es: {Y31:.2f}\")\n",
    "\n",
    "Y12 = np.dot(autovectores[:,0], Xf2[0:5])\n",
    "Y22 = np.dot(autovectores[:,1], Xf2[0:5])\n",
    "Y32 = np.dot(autovectores[:,2], Xf2[0:5])\n",
    "print(f\"El valor Y12 es: {Y12:.2f}\")\n",
    "print(f\"El valor Y22 es: {Y22:.2f}\")\n",
    "print(f\"El valor Y32 es: {Y32:.2f}\")\n",
    "\n",
    "\n"
   ]
  }
 ],
 "metadata": {
  "kernelspec": {
   "display_name": "Python 3",
   "language": "python",
   "name": "python3"
  },
  "language_info": {
   "codemirror_mode": {
    "name": "ipython",
    "version": 3
   },
   "file_extension": ".py",
   "mimetype": "text/x-python",
   "name": "python",
   "nbconvert_exporter": "python",
   "pygments_lexer": "ipython3",
   "version": "3.12.6"
  }
 },
 "nbformat": 4,
 "nbformat_minor": 2
}
