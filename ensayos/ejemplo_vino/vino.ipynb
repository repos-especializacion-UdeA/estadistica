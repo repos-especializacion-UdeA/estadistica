{
 "cells": [
  {
   "cell_type": "markdown",
   "metadata": {},
   "source": [
    "[![Open in Colab](https://colab.research.google.com/assets/colab-badge.svg)](https://colab.research.google.com/github/repos-especializacion-UdeA/estadistica/blob/main/trabajo3/trabajo3.ipynb)"
   ]
  },
  {
   "cell_type": "code",
   "execution_count": 22,
   "metadata": {},
   "outputs": [],
   "source": [
    "# Bibliotecas necesarias\n",
    "import pandas as pd\n",
    "import numpy as np\n",
    "import seaborn as sns\n",
    "import matplotlib.pyplot as plt\n",
    "import itertools\n",
    "\n",
    "# We will use some methods from the sklearn module\n",
    "from sklearn import linear_model\n",
    "from sklearn.linear_model import LinearRegression\n",
    "from sklearn import metrics\n",
    "from sklearn.metrics import mean_squared_error, mean_absolute_error, r2_score\n",
    "from sklearn.model_selection import train_test_split, cross_val_score\n",
    "\n",
    "import scipy.stats as stats\n",
    "from scipy.stats import bartlett, shapiro\n",
    "import statsmodels.formula.api as smf\n",
    "import statsmodels.api as sm\n",
    "from statsmodels.formula.api import ols\n",
    "from statsmodels.stats.diagnostic import het_breuschpagan\n",
    "from statsmodels.stats.stattools import durbin_watson\n",
    "from IPython.display import display, Markdown"
   ]
  },
  {
   "cell_type": "markdown",
   "metadata": {},
   "source": [
    "# Ejemplo vino"
   ]
  },
  {
   "cell_type": "markdown",
   "metadata": {},
   "source": [
    "## Base de datos\n",
    "\n"
   ]
  },
  {
   "cell_type": "markdown",
   "metadata": {},
   "source": [
    "### Carga y analisis simple de la base de datos"
   ]
  },
  {
   "cell_type": "code",
   "execution_count": 2,
   "metadata": {},
   "outputs": [
    {
     "data": {
      "text/html": [
       "<div>\n",
       "<style scoped>\n",
       "    .dataframe tbody tr th:only-of-type {\n",
       "        vertical-align: middle;\n",
       "    }\n",
       "\n",
       "    .dataframe tbody tr th {\n",
       "        vertical-align: top;\n",
       "    }\n",
       "\n",
       "    .dataframe thead th {\n",
       "        text-align: right;\n",
       "    }\n",
       "</style>\n",
       "<table border=\"1\" class=\"dataframe\">\n",
       "  <thead>\n",
       "    <tr style=\"text-align: right;\">\n",
       "      <th></th>\n",
       "      <th>calidad</th>\n",
       "      <th>aroma</th>\n",
       "      <th>cuerpo</th>\n",
       "      <th>sabor</th>\n",
       "      <th>fuerza</th>\n",
       "    </tr>\n",
       "  </thead>\n",
       "  <tbody>\n",
       "    <tr>\n",
       "      <th>0</th>\n",
       "      <td>9.8</td>\n",
       "      <td>3.3</td>\n",
       "      <td>2.8</td>\n",
       "      <td>3.1</td>\n",
       "      <td>4.1</td>\n",
       "    </tr>\n",
       "    <tr>\n",
       "      <th>1</th>\n",
       "      <td>12.6</td>\n",
       "      <td>4.4</td>\n",
       "      <td>4.9</td>\n",
       "      <td>3.5</td>\n",
       "      <td>3.9</td>\n",
       "    </tr>\n",
       "    <tr>\n",
       "      <th>2</th>\n",
       "      <td>11.9</td>\n",
       "      <td>3.9</td>\n",
       "      <td>5.3</td>\n",
       "      <td>4.8</td>\n",
       "      <td>4.7</td>\n",
       "    </tr>\n",
       "    <tr>\n",
       "      <th>3</th>\n",
       "      <td>11.1</td>\n",
       "      <td>3.9</td>\n",
       "      <td>2.6</td>\n",
       "      <td>3.1</td>\n",
       "      <td>3.6</td>\n",
       "    </tr>\n",
       "    <tr>\n",
       "      <th>4</th>\n",
       "      <td>13.3</td>\n",
       "      <td>5.6</td>\n",
       "      <td>5.1</td>\n",
       "      <td>5.5</td>\n",
       "      <td>5.1</td>\n",
       "    </tr>\n",
       "  </tbody>\n",
       "</table>\n",
       "</div>"
      ],
      "text/plain": [
       "   calidad  aroma  cuerpo  sabor  fuerza\n",
       "0      9.8    3.3     2.8    3.1     4.1\n",
       "1     12.6    4.4     4.9    3.5     3.9\n",
       "2     11.9    3.9     5.3    4.8     4.7\n",
       "3     11.1    3.9     2.6    3.1     3.6\n",
       "4     13.3    5.6     5.1    5.5     5.1"
      ]
     },
     "execution_count": 2,
     "metadata": {},
     "output_type": "execute_result"
    }
   ],
   "source": [
    "# Leer archivo csv\n",
    "\n",
    "raw_data_url = \"datosVino.csv\"\n",
    "\n",
    "# Leer el archivo CSV\n",
    "df = pd.read_csv(raw_data_url)\n",
    "\n",
    "# Mostrar las primeras filas del DataFrame\n",
    "df.head()"
   ]
  },
  {
   "cell_type": "markdown",
   "metadata": {},
   "source": [
    "### Funciones resumen"
   ]
  },
  {
   "cell_type": "code",
   "execution_count": 3,
   "metadata": {},
   "outputs": [
    {
     "data": {
      "text/plain": [
       "(38, 5)"
      ]
     },
     "execution_count": 3,
     "metadata": {},
     "output_type": "execute_result"
    }
   ],
   "source": [
    "df.shape"
   ]
  },
  {
   "cell_type": "code",
   "execution_count": 4,
   "metadata": {},
   "outputs": [
    {
     "data": {
      "text/html": [
       "<div>\n",
       "<style scoped>\n",
       "    .dataframe tbody tr th:only-of-type {\n",
       "        vertical-align: middle;\n",
       "    }\n",
       "\n",
       "    .dataframe tbody tr th {\n",
       "        vertical-align: top;\n",
       "    }\n",
       "\n",
       "    .dataframe thead th {\n",
       "        text-align: right;\n",
       "    }\n",
       "</style>\n",
       "<table border=\"1\" class=\"dataframe\">\n",
       "  <thead>\n",
       "    <tr style=\"text-align: right;\">\n",
       "      <th></th>\n",
       "      <th>calidad</th>\n",
       "      <th>aroma</th>\n",
       "      <th>cuerpo</th>\n",
       "      <th>sabor</th>\n",
       "      <th>fuerza</th>\n",
       "    </tr>\n",
       "  </thead>\n",
       "  <tbody>\n",
       "    <tr>\n",
       "      <th>count</th>\n",
       "      <td>38.000000</td>\n",
       "      <td>38.000000</td>\n",
       "      <td>38.000000</td>\n",
       "      <td>38.000000</td>\n",
       "      <td>38.000000</td>\n",
       "    </tr>\n",
       "    <tr>\n",
       "      <th>mean</th>\n",
       "      <td>12.442105</td>\n",
       "      <td>4.847368</td>\n",
       "      <td>4.684211</td>\n",
       "      <td>4.768421</td>\n",
       "      <td>4.255263</td>\n",
       "    </tr>\n",
       "    <tr>\n",
       "      <th>std</th>\n",
       "      <td>2.035181</td>\n",
       "      <td>1.082474</td>\n",
       "      <td>0.824138</td>\n",
       "      <td>1.028014</td>\n",
       "      <td>0.738039</td>\n",
       "    </tr>\n",
       "    <tr>\n",
       "      <th>min</th>\n",
       "      <td>7.900000</td>\n",
       "      <td>3.300000</td>\n",
       "      <td>2.600000</td>\n",
       "      <td>2.900000</td>\n",
       "      <td>2.900000</td>\n",
       "    </tr>\n",
       "    <tr>\n",
       "      <th>25%</th>\n",
       "      <td>11.150000</td>\n",
       "      <td>4.125000</td>\n",
       "      <td>4.150000</td>\n",
       "      <td>4.225000</td>\n",
       "      <td>3.700000</td>\n",
       "    </tr>\n",
       "    <tr>\n",
       "      <th>50%</th>\n",
       "      <td>12.450000</td>\n",
       "      <td>4.650000</td>\n",
       "      <td>4.750000</td>\n",
       "      <td>4.800000</td>\n",
       "      <td>4.100000</td>\n",
       "    </tr>\n",
       "    <tr>\n",
       "      <th>75%</th>\n",
       "      <td>13.750000</td>\n",
       "      <td>5.450000</td>\n",
       "      <td>5.375000</td>\n",
       "      <td>5.500000</td>\n",
       "      <td>4.775000</td>\n",
       "    </tr>\n",
       "    <tr>\n",
       "      <th>max</th>\n",
       "      <td>16.100000</td>\n",
       "      <td>7.700000</td>\n",
       "      <td>6.600000</td>\n",
       "      <td>7.000000</td>\n",
       "      <td>6.000000</td>\n",
       "    </tr>\n",
       "  </tbody>\n",
       "</table>\n",
       "</div>"
      ],
      "text/plain": [
       "         calidad      aroma     cuerpo      sabor     fuerza\n",
       "count  38.000000  38.000000  38.000000  38.000000  38.000000\n",
       "mean   12.442105   4.847368   4.684211   4.768421   4.255263\n",
       "std     2.035181   1.082474   0.824138   1.028014   0.738039\n",
       "min     7.900000   3.300000   2.600000   2.900000   2.900000\n",
       "25%    11.150000   4.125000   4.150000   4.225000   3.700000\n",
       "50%    12.450000   4.650000   4.750000   4.800000   4.100000\n",
       "75%    13.750000   5.450000   5.375000   5.500000   4.775000\n",
       "max    16.100000   7.700000   6.600000   7.000000   6.000000"
      ]
     },
     "execution_count": 4,
     "metadata": {},
     "output_type": "execute_result"
    }
   ],
   "source": [
    "# Información resumida de los datos numericos\n",
    "df.describe()"
   ]
  },
  {
   "cell_type": "code",
   "execution_count": 5,
   "metadata": {},
   "outputs": [
    {
     "data": {
      "text/html": [
       "<div>\n",
       "<style scoped>\n",
       "    .dataframe tbody tr th:only-of-type {\n",
       "        vertical-align: middle;\n",
       "    }\n",
       "\n",
       "    .dataframe tbody tr th {\n",
       "        vertical-align: top;\n",
       "    }\n",
       "\n",
       "    .dataframe thead th {\n",
       "        text-align: right;\n",
       "    }\n",
       "</style>\n",
       "<table border=\"1\" class=\"dataframe\">\n",
       "  <thead>\n",
       "    <tr style=\"text-align: right;\">\n",
       "      <th></th>\n",
       "      <th>calidad</th>\n",
       "      <th>aroma</th>\n",
       "      <th>cuerpo</th>\n",
       "      <th>sabor</th>\n",
       "      <th>fuerza</th>\n",
       "    </tr>\n",
       "  </thead>\n",
       "  <tbody>\n",
       "    <tr>\n",
       "      <th>calidad</th>\n",
       "      <td>1.000000</td>\n",
       "      <td>0.710007</td>\n",
       "      <td>0.548273</td>\n",
       "      <td>0.789169</td>\n",
       "      <td>-0.048554</td>\n",
       "    </tr>\n",
       "    <tr>\n",
       "      <th>aroma</th>\n",
       "      <td>0.710007</td>\n",
       "      <td>1.000000</td>\n",
       "      <td>0.548910</td>\n",
       "      <td>0.736561</td>\n",
       "      <td>0.201644</td>\n",
       "    </tr>\n",
       "    <tr>\n",
       "      <th>cuerpo</th>\n",
       "      <td>0.548273</td>\n",
       "      <td>0.548910</td>\n",
       "      <td>1.000000</td>\n",
       "      <td>0.646659</td>\n",
       "      <td>0.152106</td>\n",
       "    </tr>\n",
       "    <tr>\n",
       "      <th>sabor</th>\n",
       "      <td>0.789169</td>\n",
       "      <td>0.736561</td>\n",
       "      <td>0.646659</td>\n",
       "      <td>1.000000</td>\n",
       "      <td>0.179761</td>\n",
       "    </tr>\n",
       "    <tr>\n",
       "      <th>fuerza</th>\n",
       "      <td>-0.048554</td>\n",
       "      <td>0.201644</td>\n",
       "      <td>0.152106</td>\n",
       "      <td>0.179761</td>\n",
       "      <td>1.000000</td>\n",
       "    </tr>\n",
       "  </tbody>\n",
       "</table>\n",
       "</div>"
      ],
      "text/plain": [
       "          calidad     aroma    cuerpo     sabor    fuerza\n",
       "calidad  1.000000  0.710007  0.548273  0.789169 -0.048554\n",
       "aroma    0.710007  1.000000  0.548910  0.736561  0.201644\n",
       "cuerpo   0.548273  0.548910  1.000000  0.646659  0.152106\n",
       "sabor    0.789169  0.736561  0.646659  1.000000  0.179761\n",
       "fuerza  -0.048554  0.201644  0.152106  0.179761  1.000000"
      ]
     },
     "execution_count": 5,
     "metadata": {},
     "output_type": "execute_result"
    }
   ],
   "source": [
    "df.corr()"
   ]
  },
  {
   "cell_type": "markdown",
   "metadata": {},
   "source": [
    "## Ajuste del modelo"
   ]
  },
  {
   "cell_type": "code",
   "execution_count": 12,
   "metadata": {},
   "outputs": [
    {
     "name": "stdout",
     "output_type": "stream",
     "text": [
      "                            OLS Regression Results                            \n",
      "==============================================================================\n",
      "Dep. Variable:                calidad   R-squared:                       0.706\n",
      "Model:                            OLS   Adj. R-squared:                  0.670\n",
      "Method:                 Least Squares   F-statistic:                     19.81\n",
      "Date:                Wed, 02 Oct 2024   Prob (F-statistic):           2.14e-08\n",
      "Time:                        10:23:49   Log-Likelihood:                -57.158\n",
      "No. Observations:                  38   AIC:                             124.3\n",
      "Df Residuals:                      33   BIC:                             132.5\n",
      "Df Model:                           4                                         \n",
      "Covariance Type:            nonrobust                                         \n",
      "==============================================================================\n",
      "                 coef    std err          t      P>|t|      [0.025      0.975]\n",
      "------------------------------------------------------------------------------\n",
      "Intercept      6.3173      1.473      4.289      0.000       3.321       9.314\n",
      "aroma          0.5797      0.266      2.177      0.037       0.038       1.122\n",
      "cuerpo         0.0996      0.309      0.322      0.749      -0.529       0.728\n",
      "sabor          1.1395      0.306      3.725      0.001       0.517       1.762\n",
      "fuerza        -0.6076      0.266     -2.282      0.029      -1.149      -0.066\n",
      "==============================================================================\n",
      "Omnibus:                        1.010   Durbin-Watson:                   0.860\n",
      "Prob(Omnibus):                  0.604   Jarque-Bera (JB):                0.924\n",
      "Skew:                          -0.356   Prob(JB):                        0.630\n",
      "Kurtosis:                       2.723   Cond. No.                         74.2\n",
      "==============================================================================\n",
      "\n",
      "Notes:\n",
      "[1] Standard Errors assume that the covariance matrix of the errors is correctly specified.\n"
     ]
    }
   ],
   "source": [
    "# Para ajustar el modelo utilizando el modo fórmula, es necesario que los datos\n",
    "# estén almacenados en un único dataframe.\n",
    "\n",
    "modelo = smf.ols(\n",
    "     formula = 'calidad ~ aroma+cuerpo+sabor+fuerza',\n",
    "     data = df\n",
    ")\n",
    "modelo_res = modelo.fit()\n",
    "print(modelo_res.summary())"
   ]
  },
  {
   "cell_type": "markdown",
   "metadata": {},
   "source": [
    "## Anova del modelo"
   ]
  },
  {
   "cell_type": "code",
   "execution_count": 19,
   "metadata": {},
   "outputs": [
    {
     "data": {
      "text/html": [
       "<div>\n",
       "<style scoped>\n",
       "    .dataframe tbody tr th:only-of-type {\n",
       "        vertical-align: middle;\n",
       "    }\n",
       "\n",
       "    .dataframe tbody tr th {\n",
       "        vertical-align: top;\n",
       "    }\n",
       "\n",
       "    .dataframe thead th {\n",
       "        text-align: right;\n",
       "    }\n",
       "</style>\n",
       "<table border=\"1\" class=\"dataframe\">\n",
       "  <thead>\n",
       "    <tr style=\"text-align: right;\">\n",
       "      <th></th>\n",
       "      <th>df</th>\n",
       "      <th>sum_sq</th>\n",
       "      <th>mean_sq</th>\n",
       "      <th>F</th>\n",
       "      <th>PR(&gt;F)</th>\n",
       "    </tr>\n",
       "  </thead>\n",
       "  <tbody>\n",
       "    <tr>\n",
       "      <th>aroma</th>\n",
       "      <td>1.0</td>\n",
       "      <td>77.256247</td>\n",
       "      <td>77.256247</td>\n",
       "      <td>56.577694</td>\n",
       "      <td>1.192281e-08</td>\n",
       "    </tr>\n",
       "    <tr>\n",
       "      <th>cuerpo</th>\n",
       "      <td>1.0</td>\n",
       "      <td>5.513287</td>\n",
       "      <td>5.513287</td>\n",
       "      <td>4.037590</td>\n",
       "      <td>5.273375e-02</td>\n",
       "    </tr>\n",
       "    <tr>\n",
       "      <th>sabor</th>\n",
       "      <td>1.0</td>\n",
       "      <td>18.308585</td>\n",
       "      <td>18.308585</td>\n",
       "      <td>13.408075</td>\n",
       "      <td>8.690983e-04</td>\n",
       "    </tr>\n",
       "    <tr>\n",
       "      <th>fuerza</th>\n",
       "      <td>1.0</td>\n",
       "      <td>7.113360</td>\n",
       "      <td>7.113360</td>\n",
       "      <td>5.209385</td>\n",
       "      <td>2.904237e-02</td>\n",
       "    </tr>\n",
       "    <tr>\n",
       "      <th>Residual</th>\n",
       "      <td>33.0</td>\n",
       "      <td>45.061153</td>\n",
       "      <td>1.365489</td>\n",
       "      <td>NaN</td>\n",
       "      <td>NaN</td>\n",
       "    </tr>\n",
       "  </tbody>\n",
       "</table>\n",
       "</div>"
      ],
      "text/plain": [
       "            df     sum_sq    mean_sq          F        PR(>F)\n",
       "aroma      1.0  77.256247  77.256247  56.577694  1.192281e-08\n",
       "cuerpo     1.0   5.513287   5.513287   4.037590  5.273375e-02\n",
       "sabor      1.0  18.308585  18.308585  13.408075  8.690983e-04\n",
       "fuerza     1.0   7.113360   7.113360   5.209385  2.904237e-02\n",
       "Residual  33.0  45.061153   1.365489        NaN           NaN"
      ]
     },
     "execution_count": 19,
     "metadata": {},
     "output_type": "execute_result"
    }
   ],
   "source": [
    "# Realizar el análisis ANOVA directamente sobre el modelo OLS ajustado (modelo_ols)\n",
    "anova_modelo_res = sm.stats.anova_lm(modelo_res, typ=1)\n",
    "\n",
    "# Mostrar los resultados de ANOVA\n",
    "anova_modelo_res"
   ]
  },
  {
   "cell_type": "code",
   "execution_count": 20,
   "metadata": {},
   "outputs": [],
   "source": [
    "# Funcion miAnova de R\n",
    "def miAnova(modelo):\n",
    "    # Obtener la tabla ANOVA del modelo ajustado\n",
    "    anova_table = sm.stats.anova_lm(modelo, typ=1)\n",
    "    \n",
    "    # Suma de cuadrados\n",
    "    SSq = anova_table['sum_sq'].values\n",
    "    \n",
    "    # Número de predictores (k)\n",
    "    k = len(SSq) - 1\n",
    "    \n",
    "    # Suma de cuadrados del modelo (SSR) y del error (SSE)\n",
    "    SSR = np.sum(SSq[:k])\n",
    "    SSE = SSq[k]\n",
    "    \n",
    "    # Grados de libertad\n",
    "    df_error = anova_table['df'].values[k]\n",
    "    \n",
    "    # Cuadrados medios\n",
    "    MSR = SSR / k\n",
    "    MSE = SSE / df_error\n",
    "    \n",
    "    # Estadístico F\n",
    "    F0 = MSR / MSE\n",
    "    \n",
    "    # Valor p\n",
    "    VP = stats.f.sf(F0, k, df_error)\n",
    "    \n",
    "    # Crear tabla de resultados\n",
    "    result = pd.DataFrame({\n",
    "        'SumSq': [SSR, SSE],\n",
    "        'Df': [k, df_error],\n",
    "        'MeanSq': [MSR, MSE],\n",
    "        'F0': [round(F0, 3), ' '],\n",
    "        'P.value': [format(VP, '.3e'), ' ']\n",
    "    }, index=['Modelo', 'Error'])\n",
    "    \n",
    "    print(\"Tabla ANOVA Modelo de Regresión\\n\")\n",
    "    return result\n"
   ]
  },
  {
   "cell_type": "code",
   "execution_count": 21,
   "metadata": {},
   "outputs": [
    {
     "name": "stdout",
     "output_type": "stream",
     "text": [
      "Tabla ANOVA Modelo de Regresión\n",
      "\n"
     ]
    },
    {
     "data": {
      "text/html": [
       "<div>\n",
       "<style scoped>\n",
       "    .dataframe tbody tr th:only-of-type {\n",
       "        vertical-align: middle;\n",
       "    }\n",
       "\n",
       "    .dataframe tbody tr th {\n",
       "        vertical-align: top;\n",
       "    }\n",
       "\n",
       "    .dataframe thead th {\n",
       "        text-align: right;\n",
       "    }\n",
       "</style>\n",
       "<table border=\"1\" class=\"dataframe\">\n",
       "  <thead>\n",
       "    <tr style=\"text-align: right;\">\n",
       "      <th></th>\n",
       "      <th>SumSq</th>\n",
       "      <th>Df</th>\n",
       "      <th>MeanSq</th>\n",
       "      <th>F0</th>\n",
       "      <th>P.value</th>\n",
       "    </tr>\n",
       "  </thead>\n",
       "  <tbody>\n",
       "    <tr>\n",
       "      <th>Modelo</th>\n",
       "      <td>108.191479</td>\n",
       "      <td>4.0</td>\n",
       "      <td>27.047870</td>\n",
       "      <td>19.808</td>\n",
       "      <td>2.141e-08</td>\n",
       "    </tr>\n",
       "    <tr>\n",
       "      <th>Error</th>\n",
       "      <td>45.061153</td>\n",
       "      <td>33.0</td>\n",
       "      <td>1.365489</td>\n",
       "      <td></td>\n",
       "      <td></td>\n",
       "    </tr>\n",
       "  </tbody>\n",
       "</table>\n",
       "</div>"
      ],
      "text/plain": [
       "             SumSq    Df     MeanSq      F0    P.value\n",
       "Modelo  108.191479   4.0  27.047870  19.808  2.141e-08\n",
       "Error    45.061153  33.0   1.365489                   "
      ]
     },
     "execution_count": 21,
     "metadata": {},
     "output_type": "execute_result"
    }
   ],
   "source": [
    "miAnova(modelo_res)"
   ]
  },
  {
   "cell_type": "markdown",
   "metadata": {},
   "source": [
    "## Todas las posibles regresiones"
   ]
  },
  {
   "cell_type": "code",
   "execution_count": 25,
   "metadata": {},
   "outputs": [],
   "source": [
    "# Función para generar todas las combinaciones de variables y ajustar un modelo de regresión\n",
    "def todas_regresiones_posibles(data, respuesta):\n",
    "    variables_predictoras = list(data.columns)\n",
    "    variables_predictoras.remove(respuesta)\n",
    "    \n",
    "    resultados = []\n",
    "\n",
    "    # Probar todas las combinaciones de variables predictoras\n",
    "    for k in range(1, len(variables_predictoras) + 1):\n",
    "        for combo in itertools.combinations(variables_predictoras, k):\n",
    "            # Definir el conjunto de predictores actual\n",
    "            X = data[list(combo)]\n",
    "            X = sm.add_constant(X)  # Agregar la constante (intercepto)\n",
    "            y = data[respuesta]\n",
    "            \n",
    "            # Ajustar el modelo de regresión\n",
    "            modelo = sm.OLS(y, X).fit()\n",
    "            \n",
    "            # Guardar los resultados del modelo\n",
    "            resultados.append({\n",
    "                'Predictoras': combo,\n",
    "                'R2_adj': modelo.rsquared_adj,\n",
    "                'AIC': modelo.aic,\n",
    "                'BIC': modelo.bic\n",
    "            })\n",
    "    \n",
    "    # Convertir los resultados a un DataFrame\n",
    "    resultados_df = pd.DataFrame(resultados)\n",
    "    \n",
    "    return resultados_df\n"
   ]
  },
  {
   "cell_type": "code",
   "execution_count": 27,
   "metadata": {},
   "outputs": [],
   "source": [
    "def todas_regresiones_posibles_completo(data, respuesta):\n",
    "    variables_predictoras = list(data.columns)\n",
    "    variables_predictoras.remove(respuesta)\n",
    "    \n",
    "    n = len(data)\n",
    "    resultados = []\n",
    "\n",
    "    # Probar todas las combinaciones de variables predictoras\n",
    "    for k in range(1, len(variables_predictoras) + 1):\n",
    "        for combo in itertools.combinations(variables_predictoras, k):\n",
    "            # Definir el conjunto de predictores actual\n",
    "            X = data[list(combo)]\n",
    "            X = sm.add_constant(X)  # Agregar la constante (intercepto)\n",
    "            y = data[respuesta]\n",
    "            \n",
    "            # Ajustar el modelo de regresión\n",
    "            modelo = sm.OLS(y, X).fit()\n",
    "            \n",
    "            # Obtener los valores necesarios\n",
    "            R2 = modelo.rsquared\n",
    "            R2_adj = modelo.rsquared_adj\n",
    "            SSE = np.sum(modelo.resid ** 2)  # Suma de cuadrados del error\n",
    "            MSE = SSE / modelo.df_resid  # Error cuadrático medio\n",
    "            Cp = SSE / MSE - (n - 2 * (k + 1))  # Criterio de Cp de Mallows\n",
    "            \n",
    "            # Guardar los resultados del modelo\n",
    "            resultados.append({\n",
    "                'Predictoras': combo,\n",
    "                'R2': R2,\n",
    "                'R2_adj': R2_adj,\n",
    "                'SSE': SSE,\n",
    "                'MSE': MSE,\n",
    "                'Cp': Cp,\n",
    "                'AIC': modelo.aic,\n",
    "                'BIC': modelo.bic\n",
    "            })\n",
    "    \n",
    "    # Convertir los resultados a un DataFrame\n",
    "    resultados_df = pd.DataFrame(resultados)\n",
    "    \n",
    "    return resultados_df"
   ]
  },
  {
   "cell_type": "code",
   "execution_count": 28,
   "metadata": {},
   "outputs": [
    {
     "name": "stdout",
     "output_type": "stream",
     "text": [
      "                       Predictoras    R2_adj         AIC         BIC\n",
      "12          (aroma, sabor, fuerza)  0.679016  122.435369  128.985714\n",
      "14  (aroma, cuerpo, sabor, fuerza)  0.670328  124.315834  132.503765\n",
      "9                  (sabor, fuerza)  0.640842  125.807003  130.719762\n",
      "5                   (aroma, sabor)  0.639529  125.945645  130.858403\n",
      "13         (cuerpo, sabor, fuerza)  0.634076  127.414705  133.965050\n",
      "10          (aroma, cuerpo, sabor)  0.629513  127.885631  134.435976\n",
      "2                         (sabor,)  0.612309  127.782452  131.057625\n",
      "7                  (cuerpo, sabor)  0.603849  129.532277  134.445035\n",
      "11         (aroma, cuerpo, fuerza)  0.545508  135.651398  142.201742\n",
      "6                  (aroma, fuerza)  0.516279  137.121348  142.034106\n",
      "4                  (aroma, cuerpo)  0.513805  137.315226  142.227985\n",
      "0                         (aroma,)  0.490336  138.177114  141.452286\n",
      "1                        (cuerpo,)  0.281175  151.243987  154.519159\n",
      "8                 (cuerpo, fuerza)  0.279479  152.263063  157.175821\n",
      "3                        (fuerza,) -0.025355  164.740698  168.015870\n"
     ]
    }
   ],
   "source": [
    "# Ejemplo de uso (suponiendo que df es tu DataFrame)\n",
    "resultados_posibles = todas_regresiones_posibles(df, 'calidad')\n",
    "\n",
    "# Mostrar los mejores resultados\n",
    "print(resultados_posibles.sort_values(by='R2_adj', ascending=False))"
   ]
  },
  {
   "cell_type": "code",
   "execution_count": 31,
   "metadata": {},
   "outputs": [
    {
     "data": {
      "text/html": [
       "<div>\n",
       "<style scoped>\n",
       "    .dataframe tbody tr th:only-of-type {\n",
       "        vertical-align: middle;\n",
       "    }\n",
       "\n",
       "    .dataframe tbody tr th {\n",
       "        vertical-align: top;\n",
       "    }\n",
       "\n",
       "    .dataframe thead th {\n",
       "        text-align: right;\n",
       "    }\n",
       "</style>\n",
       "<table border=\"1\" class=\"dataframe\">\n",
       "  <thead>\n",
       "    <tr style=\"text-align: right;\">\n",
       "      <th></th>\n",
       "      <th>Predictoras</th>\n",
       "      <th>R2</th>\n",
       "      <th>R2_adj</th>\n",
       "      <th>SSE</th>\n",
       "      <th>MSE</th>\n",
       "      <th>Cp</th>\n",
       "      <th>AIC</th>\n",
       "      <th>BIC</th>\n",
       "    </tr>\n",
       "  </thead>\n",
       "  <tbody>\n",
       "    <tr>\n",
       "      <th>12</th>\n",
       "      <td>(aroma, sabor, fuerza)</td>\n",
       "      <td>0.705042</td>\n",
       "      <td>0.679016</td>\n",
       "      <td>45.203123</td>\n",
       "      <td>1.329504</td>\n",
       "      <td>4.0</td>\n",
       "      <td>122.435369</td>\n",
       "      <td>128.985714</td>\n",
       "    </tr>\n",
       "    <tr>\n",
       "      <th>14</th>\n",
       "      <td>(aroma, cuerpo, sabor, fuerza)</td>\n",
       "      <td>0.705968</td>\n",
       "      <td>0.670328</td>\n",
       "      <td>45.061153</td>\n",
       "      <td>1.365489</td>\n",
       "      <td>5.0</td>\n",
       "      <td>124.315834</td>\n",
       "      <td>132.503765</td>\n",
       "    </tr>\n",
       "    <tr>\n",
       "      <th>9</th>\n",
       "      <td>(sabor, fuerza)</td>\n",
       "      <td>0.660256</td>\n",
       "      <td>0.640842</td>\n",
       "      <td>52.066668</td>\n",
       "      <td>1.487619</td>\n",
       "      <td>3.0</td>\n",
       "      <td>125.807003</td>\n",
       "      <td>130.719762</td>\n",
       "    </tr>\n",
       "    <tr>\n",
       "      <th>5</th>\n",
       "      <td>(aroma, sabor)</td>\n",
       "      <td>0.659014</td>\n",
       "      <td>0.639529</td>\n",
       "      <td>52.256978</td>\n",
       "      <td>1.493057</td>\n",
       "      <td>3.0</td>\n",
       "      <td>125.945645</td>\n",
       "      <td>130.858403</td>\n",
       "    </tr>\n",
       "    <tr>\n",
       "      <th>13</th>\n",
       "      <td>(cuerpo, sabor, fuerza)</td>\n",
       "      <td>0.663745</td>\n",
       "      <td>0.634076</td>\n",
       "      <td>51.531916</td>\n",
       "      <td>1.515645</td>\n",
       "      <td>4.0</td>\n",
       "      <td>127.414705</td>\n",
       "      <td>133.965050</td>\n",
       "    </tr>\n",
       "    <tr>\n",
       "      <th>10</th>\n",
       "      <td>(aroma, cuerpo, sabor)</td>\n",
       "      <td>0.659552</td>\n",
       "      <td>0.629513</td>\n",
       "      <td>52.174513</td>\n",
       "      <td>1.534545</td>\n",
       "      <td>4.0</td>\n",
       "      <td>127.885631</td>\n",
       "      <td>134.435976</td>\n",
       "    </tr>\n",
       "    <tr>\n",
       "      <th>2</th>\n",
       "      <td>(sabor,)</td>\n",
       "      <td>0.622787</td>\n",
       "      <td>0.612309</td>\n",
       "      <td>57.808860</td>\n",
       "      <td>1.605802</td>\n",
       "      <td>2.0</td>\n",
       "      <td>127.782452</td>\n",
       "      <td>131.057625</td>\n",
       "    </tr>\n",
       "    <tr>\n",
       "      <th>7</th>\n",
       "      <td>(cuerpo, sabor)</td>\n",
       "      <td>0.625262</td>\n",
       "      <td>0.603849</td>\n",
       "      <td>57.429521</td>\n",
       "      <td>1.640843</td>\n",
       "      <td>3.0</td>\n",
       "      <td>129.532277</td>\n",
       "      <td>134.445035</td>\n",
       "    </tr>\n",
       "    <tr>\n",
       "      <th>11</th>\n",
       "      <td>(aroma, cuerpo, fuerza)</td>\n",
       "      <td>0.582358</td>\n",
       "      <td>0.545508</td>\n",
       "      <td>64.004693</td>\n",
       "      <td>1.882491</td>\n",
       "      <td>4.0</td>\n",
       "      <td>135.651398</td>\n",
       "      <td>142.201742</td>\n",
       "    </tr>\n",
       "    <tr>\n",
       "      <th>6</th>\n",
       "      <td>(aroma, fuerza)</td>\n",
       "      <td>0.542426</td>\n",
       "      <td>0.516279</td>\n",
       "      <td>70.124405</td>\n",
       "      <td>2.003554</td>\n",
       "      <td>3.0</td>\n",
       "      <td>137.121348</td>\n",
       "      <td>142.034106</td>\n",
       "    </tr>\n",
       "    <tr>\n",
       "      <th>4</th>\n",
       "      <td>(aroma, cuerpo)</td>\n",
       "      <td>0.540086</td>\n",
       "      <td>0.513805</td>\n",
       "      <td>70.483098</td>\n",
       "      <td>2.013803</td>\n",
       "      <td>3.0</td>\n",
       "      <td>137.315226</td>\n",
       "      <td>142.227985</td>\n",
       "    </tr>\n",
       "    <tr>\n",
       "      <th>0</th>\n",
       "      <td>(aroma,)</td>\n",
       "      <td>0.504110</td>\n",
       "      <td>0.490336</td>\n",
       "      <td>75.996385</td>\n",
       "      <td>2.111011</td>\n",
       "      <td>2.0</td>\n",
       "      <td>138.177114</td>\n",
       "      <td>141.452286</td>\n",
       "    </tr>\n",
       "    <tr>\n",
       "      <th>1</th>\n",
       "      <td>(cuerpo,)</td>\n",
       "      <td>0.300603</td>\n",
       "      <td>0.281175</td>\n",
       "      <td>107.184415</td>\n",
       "      <td>2.977345</td>\n",
       "      <td>2.0</td>\n",
       "      <td>151.243987</td>\n",
       "      <td>154.519159</td>\n",
       "    </tr>\n",
       "    <tr>\n",
       "      <th>8</th>\n",
       "      <td>(cuerpo, fuerza)</td>\n",
       "      <td>0.318426</td>\n",
       "      <td>0.279479</td>\n",
       "      <td>104.452984</td>\n",
       "      <td>2.984371</td>\n",
       "      <td>3.0</td>\n",
       "      <td>152.263063</td>\n",
       "      <td>157.175821</td>\n",
       "    </tr>\n",
       "    <tr>\n",
       "      <th>3</th>\n",
       "      <td>(fuerza,)</td>\n",
       "      <td>0.002357</td>\n",
       "      <td>-0.025355</td>\n",
       "      <td>152.891339</td>\n",
       "      <td>4.246982</td>\n",
       "      <td>2.0</td>\n",
       "      <td>164.740698</td>\n",
       "      <td>168.015870</td>\n",
       "    </tr>\n",
       "  </tbody>\n",
       "</table>\n",
       "</div>"
      ],
      "text/plain": [
       "                       Predictoras        R2    R2_adj         SSE       MSE  \\\n",
       "12          (aroma, sabor, fuerza)  0.705042  0.679016   45.203123  1.329504   \n",
       "14  (aroma, cuerpo, sabor, fuerza)  0.705968  0.670328   45.061153  1.365489   \n",
       "9                  (sabor, fuerza)  0.660256  0.640842   52.066668  1.487619   \n",
       "5                   (aroma, sabor)  0.659014  0.639529   52.256978  1.493057   \n",
       "13         (cuerpo, sabor, fuerza)  0.663745  0.634076   51.531916  1.515645   \n",
       "10          (aroma, cuerpo, sabor)  0.659552  0.629513   52.174513  1.534545   \n",
       "2                         (sabor,)  0.622787  0.612309   57.808860  1.605802   \n",
       "7                  (cuerpo, sabor)  0.625262  0.603849   57.429521  1.640843   \n",
       "11         (aroma, cuerpo, fuerza)  0.582358  0.545508   64.004693  1.882491   \n",
       "6                  (aroma, fuerza)  0.542426  0.516279   70.124405  2.003554   \n",
       "4                  (aroma, cuerpo)  0.540086  0.513805   70.483098  2.013803   \n",
       "0                         (aroma,)  0.504110  0.490336   75.996385  2.111011   \n",
       "1                        (cuerpo,)  0.300603  0.281175  107.184415  2.977345   \n",
       "8                 (cuerpo, fuerza)  0.318426  0.279479  104.452984  2.984371   \n",
       "3                        (fuerza,)  0.002357 -0.025355  152.891339  4.246982   \n",
       "\n",
       "     Cp         AIC         BIC  \n",
       "12  4.0  122.435369  128.985714  \n",
       "14  5.0  124.315834  132.503765  \n",
       "9   3.0  125.807003  130.719762  \n",
       "5   3.0  125.945645  130.858403  \n",
       "13  4.0  127.414705  133.965050  \n",
       "10  4.0  127.885631  134.435976  \n",
       "2   2.0  127.782452  131.057625  \n",
       "7   3.0  129.532277  134.445035  \n",
       "11  4.0  135.651398  142.201742  \n",
       "6   3.0  137.121348  142.034106  \n",
       "4   3.0  137.315226  142.227985  \n",
       "0   2.0  138.177114  141.452286  \n",
       "1   2.0  151.243987  154.519159  \n",
       "8   3.0  152.263063  157.175821  \n",
       "3   2.0  164.740698  168.015870  "
      ]
     },
     "execution_count": 31,
     "metadata": {},
     "output_type": "execute_result"
    }
   ],
   "source": [
    "# Ejecutar la función con los datos\n",
    "resultados_completos = todas_regresiones_posibles_completo(df, 'calidad')\n",
    "\n",
    "# Mostrar los resultados ordenados por R2 ajustado\n",
    "resultados_completos.sort_values(by='R2_adj', ascending=False)"
   ]
  },
  {
   "cell_type": "code",
   "execution_count": 26,
   "metadata": {},
   "outputs": [
    {
     "name": "stdout",
     "output_type": "stream",
     "text": [
      "                       Predictoras    R2_adj         AIC         BIC\n",
      "12          (aroma, sabor, fuerza)  0.679016  122.435369  128.985714\n",
      "14  (aroma, cuerpo, sabor, fuerza)  0.670328  124.315834  132.503765\n",
      "9                  (sabor, fuerza)  0.640842  125.807003  130.719762\n",
      "5                   (aroma, sabor)  0.639529  125.945645  130.858403\n",
      "13         (cuerpo, sabor, fuerza)  0.634076  127.414705  133.965050\n",
      "10          (aroma, cuerpo, sabor)  0.629513  127.885631  134.435976\n",
      "2                         (sabor,)  0.612309  127.782452  131.057625\n",
      "7                  (cuerpo, sabor)  0.603849  129.532277  134.445035\n",
      "11         (aroma, cuerpo, fuerza)  0.545508  135.651398  142.201742\n",
      "6                  (aroma, fuerza)  0.516279  137.121348  142.034106\n",
      "4                  (aroma, cuerpo)  0.513805  137.315226  142.227985\n",
      "0                         (aroma,)  0.490336  138.177114  141.452286\n",
      "1                        (cuerpo,)  0.281175  151.243987  154.519159\n",
      "8                 (cuerpo, fuerza)  0.279479  152.263063  157.175821\n",
      "3                        (fuerza,) -0.025355  164.740698  168.015870\n"
     ]
    }
   ],
   "source": [
    "# Ejemplo de uso (suponiendo que df es tu DataFrame)\n",
    "resultados_posibles = todas_regresiones_posibles(df, 'calidad')\n",
    "\n",
    "# Mostrar los mejores resultados\n",
    "print(resultados_posibles.sort_values(by='R2_adj', ascending=False))"
   ]
  },
  {
   "cell_type": "markdown",
   "metadata": {},
   "source": [
    " 2 0.6603  0.6408  52.06667  6.1304 1.48762   \n",
    "\n",
    " (sabor, fuerza)  0.640842  125.807003  130.719762 "
   ]
  },
  {
   "cell_type": "markdown",
   "metadata": {},
   "source": [
    "### Calculo de residuales estudentizados"
   ]
  },
  {
   "cell_type": "code",
   "execution_count": 33,
   "metadata": {},
   "outputs": [
    {
     "name": "stdout",
     "output_type": "stream",
     "text": [
      "[ 0.23085462  1.5219994   0.16210806  0.88864239  0.05222364  0.12162184\n",
      " -0.21265935  0.37737825  1.5739862   1.55967015  1.59336772  0.77977358\n",
      "  0.28896522 -0.73791671  0.49440241  1.55885602  0.56768487  0.22730461\n",
      " -1.00204235 -2.81041681 -0.06259752 -0.22969718 -1.94937986 -1.6501413\n",
      " -1.1306834  -0.04068659  0.00995886 -0.40186731 -1.12330457 -1.47156586\n",
      " -1.06728647 -0.54548087  1.27597715  0.42741082  0.32400505  0.54639361\n",
      "  0.50225373 -0.87858602]\n"
     ]
    }
   ],
   "source": [
    "# Obtener los residuos estudentizados utilizando OLSInfluence\n",
    "influence = modelo_res.get_influence()\n",
    "residuos_estudentizados = influence.resid_studentized_external\n",
    "\n",
    "# Mostrar los residuos estudentizados\n",
    "print(residuos_estudentizados)"
   ]
  },
  {
   "cell_type": "markdown",
   "metadata": {},
   "source": [
    "### Grafico de residuales .vs. Valores predichos"
   ]
  },
  {
   "cell_type": "code",
   "execution_count": 34,
   "metadata": {},
   "outputs": [
    {
     "data": {
      "image/png": "[encoded data removed]",
      "text/plain": [
       "<Figure size 800x600 with 1 Axes>"
      ]
     },
     "metadata": {},
     "output_type": "display_data"
    }
   ],
   "source": [
    "# Calcular los valores predichos\n",
    "valores_predichos = modelo_res.fittedvalues\n",
    "\n",
    "# Calcular los residuos\n",
    "residuos = modelo_res.resid\n",
    "\n",
    "# Crear el gráfico de residuos vs. valores predichos\n",
    "plt.figure(figsize=(8, 6))\n",
    "plt.scatter(valores_predichos, residuos)\n",
    "plt.axhline(y=0, color='r', linestyle='--')\n",
    "plt.xlabel('Valores Predichos')\n",
    "plt.ylabel('Residuos')\n",
    "plt.title('Gráfico de Residuos vs. Valores Predichos')\n",
    "plt.show()"
   ]
  },
  {
   "cell_type": "markdown",
   "metadata": {},
   "source": [
    "## Test de normalidad"
   ]
  },
  {
   "cell_type": "code",
   "execution_count": 35,
   "metadata": {},
   "outputs": [
    {
     "data": {
      "text/plain": [
       "ShapiroResult(statistic=0.9654808044433594, pvalue=0.284563273191452)"
      ]
     },
     "execution_count": 35,
     "metadata": {},
     "output_type": "execute_result"
    }
   ],
   "source": [
    "# Prueba de normalidad de Shapiro-Wilk sobre los residuos\n",
    "shapiro_test = stats.shapiro(residuos)\n",
    "\n",
    "# Mostrar los resultados de la prueba\n",
    "shapiro_test"
   ]
  },
  {
   "cell_type": "markdown",
   "metadata": {},
   "source": [
    "### Grafico de cuantiles"
   ]
  },
  {
   "cell_type": "code",
   "execution_count": 36,
   "metadata": {},
   "outputs": [
    {
     "data": {
      "image/png": "[encoded data removed]",
      "text/plain": [
       "<Figure size 640x480 with 1 Axes>"
      ]
     },
     "metadata": {},
     "output_type": "display_data"
    }
   ],
   "source": [
    "# Crear el gráfico Q-Q para los residuos\n",
    "sm.qqplot(residuos, line ='45')\n",
    "plt.title('Gráfico Q-Q de los Residuos')\n",
    "plt.show()"
   ]
  },
  {
   "cell_type": "markdown",
   "metadata": {},
   "source": [
    "### Prueba de corridas"
   ]
  },
  {
   "cell_type": "code",
   "execution_count": 37,
   "metadata": {},
   "outputs": [],
   "source": [
    "def runs_test(data):\n",
    "    \"\"\"\n",
    "    Realiza la prueba de corridas (Runs Test) para evaluar la aleatoriedad de una secuencia.\n",
    "    \n",
    "    Parámetros:\n",
    "    data: lista o array de datos numéricos\n",
    "    \n",
    "    Retorna:\n",
    "    valor p de la prueba\n",
    "    \"\"\"\n",
    "    # Mediana de los datos\n",
    "    median = np.median(data)\n",
    "    \n",
    "    # Convertir los datos en una secuencia de +1 y -1 según si están arriba o abajo de la mediana\n",
    "    runs = np.diff(np.sign(data - median))\n",
    "    \n",
    "    # Contar el número de corridas (cambios en la secuencia)\n",
    "    num_runs = np.sum(runs != 0) + 1\n",
    "    \n",
    "    # Contar el número de valores positivos y negativos\n",
    "    n1 = np.sum(data > median)\n",
    "    n2 = np.sum(data < median)\n",
    "    \n",
    "    # Calcular el valor esperado y la varianza\n",
    "    expected_runs = (2 * n1 * n2) / (n1 + n2) + 1\n",
    "    variance_runs = (2 * n1 * n2 * (2 * n1 * n2 - (n1 + n2))) / ((n1 + n2) ** 2 * (n1 + n2 - 1))\n",
    "    \n",
    "    # Calcular el estadístico Z\n",
    "    z = (num_runs - expected_runs) / np.sqrt(variance_runs)\n",
    "    \n",
    "    # Calcular el valor p (bilateral)\n",
    "    p_value = 2 * (1 - stats.norm.cdf(abs(z)))\n",
    "    \n",
    "    return p_value"
   ]
  },
  {
   "cell_type": "code",
   "execution_count": 41,
   "metadata": {},
   "outputs": [
    {
     "name": "stdout",
     "output_type": "stream",
     "text": [
      "P-valor de la prueba de corridas: 7.913076572418909e-05\n"
     ]
    }
   ],
   "source": [
    "# Ejemplo de uso con una secuencia de datos ???\n",
    "p_value = runs_test(residuos)\n",
    "print(f\"P-valor de la prueba de corridas: {p_value}\")"
   ]
  },
  {
   "cell_type": "code",
   "execution_count": 42,
   "metadata": {},
   "outputs": [
    {
     "data": {
      "text/plain": [
       "0.8601181541895342"
      ]
     },
     "execution_count": 42,
     "metadata": {},
     "output_type": "execute_result"
    }
   ],
   "source": [
    "# Calcular la estadística de Durbin-Watson para los residuos del modelo ajustado\n",
    "dw_stat = durbin_watson(residuos)\n",
    "\n",
    "dw_stat"
   ]
  },
  {
   "cell_type": "markdown",
   "metadata": {},
   "source": [
    "### Grafica de aleatoridad (Residuos vs tiempo)"
   ]
  },
  {
   "cell_type": "code",
   "execution_count": 43,
   "metadata": {},
   "outputs": [
    {
     "data": {
      "image/png": "[encoded data removed]",
      "text/plain": [
       "<Figure size 1000x600 with 1 Axes>"
      ]
     },
     "metadata": {},
     "output_type": "display_data"
    }
   ],
   "source": [
    "# Crear el gráfico de residuos vs. tiempo (índice de los datos)\n",
    "plt.figure(figsize=(10, 6))\n",
    "plt.plot(residuos, marker='o')\n",
    "plt.axhline(y=0, color='r', linestyle='--')\n",
    "plt.xlabel('Índice')\n",
    "plt.ylabel('Residuos')\n",
    "plt.title('Gráfico de Residuos vs. Tiempo (Índice)')\n",
    "plt.show()"
   ]
  },
  {
   "cell_type": "markdown",
   "metadata": {},
   "source": [
    "### Grafico de residuales .vs. valores predichos\n"
   ]
  },
  {
   "cell_type": "code",
   "execution_count": 45,
   "metadata": {},
   "outputs": [
    {
     "data": {
      "image/png": "[encoded data removed]",
      "text/plain": [
       "<Figure size 800x600 with 1 Axes>"
      ]
     },
     "metadata": {},
     "output_type": "display_data"
    }
   ],
   "source": [
    "# Crear el gráfico de residuos vs. valores predichos\n",
    "valores_predichos = modelo_res.fittedvalues  # Valores predichos por el modelo\n",
    "residuos = modelo_res.resid  # Residuos del modelo\n",
    "\n",
    "plt.figure(figsize=(8, 6))\n",
    "plt.scatter(valores_predichos, residuos)\n",
    "plt.axhline(y=0, color='r', linestyle='--')\n",
    "plt.xlabel('Valores Predichos')\n",
    "plt.ylabel('Residuos')\n",
    "plt.title('Gráfico de Residuos vs. Valores Predichos')\n",
    "plt.show()"
   ]
  },
  {
   "cell_type": "code",
   "execution_count": 46,
   "metadata": {},
   "outputs": [],
   "source": [
    "## Diagnostico de datos atipicos, de balanceo e influenciables\n",
    "\n",
    "# Aca vamos..."
   ]
  },
  {
   "cell_type": "markdown",
   "metadata": {},
   "source": []
  }
 ],
 "metadata": {
  "kernelspec": {
   "display_name": "Python 3",
   "language": "python",
   "name": "python3"
  },
  "language_info": {
   "codemirror_mode": {
    "name": "ipython",
    "version": 3
   },
   "file_extension": ".py",
   "mimetype": "text/x-python",
   "name": "python",
   "nbconvert_exporter": "python",
   "pygments_lexer": "ipython3",
   "version": "3.9.13"
  }
 },
 "nbformat": 4,
 "nbformat_minor": 2
}
